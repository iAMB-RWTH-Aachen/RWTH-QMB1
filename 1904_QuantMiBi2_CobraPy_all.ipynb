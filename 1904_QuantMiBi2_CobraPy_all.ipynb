{
  "nbformat": 4,
  "nbformat_minor": 0,
  "metadata": {
    "colab": {
      "name": "1904_QuantMiBi2-CobraPy_all.ipynb",
      "version": "0.3.2",
      "provenance": [],
      "collapsed_sections": [],
      "toc_visible": true,
      "include_colab_link": true
    },
    "kernelspec": {
      "name": "python3",
      "display_name": "Python 3"
    }
  },
  "cells": [
    {
      "cell_type": "markdown",
      "metadata": {
        "id": "view-in-github",
        "colab_type": "text"
      },
      "source": [
        "<a href=\"https://colab.research.google.com/github/uliebal/RWTH-QMB1/blob/master/1904_QuantMiBi2_CobraPy_all.ipynb\" target=\"_parent\"><img src=\"https://colab.research.google.com/assets/colab-badge.svg\" alt=\"Open In Colab\"/></a>"
      ]
    },
    {
      "metadata": {
        "id": "3FFJV76fCySr",
        "colab_type": "code",
        "colab": {}
      },
      "cell_type": "code",
      "source": [
        ""
      ],
      "execution_count": 0,
      "outputs": []
    },
    {
      "metadata": {
        "id": "dPnMzwQ_IWwZ",
        "colab_type": "text"
      },
      "cell_type": "markdown",
      "source": [
        "# Seminar Quantitativ Microbiology 2: \n",
        "# Simulation of Genome Scale Metabolic Models with CobraPy\n",
        "\n",
        "## Introduction\n",
        "The seminar provides a guide of how to work with genome scale metabolic models (GSMM) of micro-organisms. This seminar extends the introduction to CobraPy from the seminar in Quantitative Microbiology 1. The goal of this seminar is to identify minimal medium composition, extract information about and selecting the appropriate biomass composition formula and testing the reproduction of experimental data by the GSMM. We examine a recent model of *P. pastoris* ([Tomas-Gamisans et al., 2017](https://dx.doi.org/10.1111/1751-7915.12871)). This organism is of biotechnological relevance because it can glycosylate recombinant proteins for use as drugs and it can metabolize methanol as a potential alternative to petrol based chemistry ([Liebal et al., 2018](https://dx.doi.org/10.1016/j.mec.2018.e00075)).\n",
        "\n",
        "We will analyse the GSMM of *P. pastoris* to estimate for the exchange reactions the range of permissible flux values. This indicates which phenotypes we can expect during standard cultivation and can highlight easily overproduced metabolites. Subsequently, we will identify the minimal medium composition. An important property of GSMM is their ability to predict growth rates. We will extract experimentally measured growth rates for various substrates and compare them with predictions of the model. The data reproduction is exemplified with the substrates of methanol and glycerol and the self-learning task is to supplement growth rates based on glucose uptake rate from literature ([Lehnen et al., 2017](https://dx.doi.org/10.1016/j.meteno.2017.07.001)).\n",
        "\n",
        "The seminar uses Jupyter notebooks, a new way to use and visualize code in the web. Such a notebook is composed of a sequence of cells. Cellls can be either text/comments, like this introduction, or it contains python code to be run. In this example the code is evaluated by the cloud service [Binder](https://mybinder.org/). The output for each code-cell is shown directly below it. For a overview on Jupyter notebooks read [this review](https://www.nature.com/articles/d41586-018-07196-1). Another usefull resource to develop Jupyter notebooks is via [Google Colaboration](https://colab.research.google.com).\n",
        "\n",
        "\n",
        "---\n",
        "\n",
        "## Tutorial Steps\n",
        "  * Set up of Python environment\n",
        "    * Basic libraries(sys, pandas, numpy, matplotlib, zipfile, cobrapy)\n",
        "  * Analysis of Genome Scale Metabolic Model\n",
        "    * Retrieval of GSMM for *P. pastoris*\n",
        "    * Flux variability of exchange reactions\n",
        "    * Minimal medium composition\n",
        "  * Experimental growth rate reproduction\n",
        "    * Familiarizing with biomass composition reactions\n",
        "    * Defining functions for correct biomass equation switch\n",
        "    * Data retrieval\n",
        "    * Simulation loop\n",
        "    * Graphical output\n"
      ]
    },
    {
      "metadata": {
        "id": "XRP3j145RXOi",
        "colab_type": "text"
      },
      "cell_type": "markdown",
      "source": [
        "## Set-up compute environment\n",
        "\n",
        "Before we can analyse GSMM, we have adjust the python environment that it integrates the cobrapy toolbox and downloading the GSMM."
      ]
    },
    {
      "metadata": {
        "id": "ewTIEAb4Rb2G",
        "colab_type": "text"
      },
      "cell_type": "markdown",
      "source": [
        "### Basic Python libraries \n",
        "Some libraries that facilitate data manipulation"
      ]
    },
    {
      "metadata": {
        "id": "6wxIUGOEReDX",
        "colab_type": "code",
        "colab": {}
      },
      "cell_type": "code",
      "source": [
        "import sys # loading commands to control/navigate within the system architecture\n",
        "# Loading pandas, a library for data manipulation\n",
        "!{sys.executable} -m pip install pandas\n",
        "import pandas as pd\n",
        "\n",
        "# Loading numpy, a library fo manipulation of numbers\n",
        "import numpy as np\n",
        "\n",
        "# loading matplotlib, a library for visualization\n",
        "!{sys.executable} -m pip install matplotlib\n",
        "import matplotlib.pyplot as plt\n",
        "%matplotlib inline\n",
        "\n",
        "# in order to extraact the GSMM we need to process zip-files\n",
        "import zipfile\n",
        "\n",
        "# loading cobrapy, a library dedicated to the analysis of genome scale metabolic models\n",
        "!{sys.executable} -m pip install git+https://github.com/opencobra/cobrapy;\n",
        "from cobra.io import read_sbml_model"
      ],
      "execution_count": 0,
      "outputs": []
    },
    {
      "metadata": {
        "id": "4JJ24oZJx0Tr",
        "colab_type": "text"
      },
      "cell_type": "markdown",
      "source": [
        "## Analysis of Genome Scale Metabolic Model"
      ]
    },
    {
      "metadata": {
        "id": "lTzR-LCwR18N",
        "colab_type": "text"
      },
      "cell_type": "markdown",
      "source": [
        "### Retrieval of GSMM for *P. pastoris*\n",
        "\n",
        "*P. pastoris* is an important biotechnological organism and several GSMMs have been generated. We will use the model generated by [Tomas-Gamisans et al., 2017](https://dx.doi.org/10.1111/1751-7915.12871). First, we download the zipped model and extract it. Subsequently we load it into cobra."
      ]
    },
    {
      "metadata": {
        "id": "J29I6wOhR261",
        "colab_type": "code",
        "colab": {}
      },
      "cell_type": "code",
      "source": [
        "!wget https://www.ncbi.nlm.nih.gov/pmc/articles/PMC5743807/bin/MBT2-11-224-s003.zip\n",
        "with zipfile.ZipFile('MBT2-11-224-s003.zip', 'r') as zip_ref:\n",
        "  zip_ref.extractall()\n"
      ],
      "execution_count": 0,
      "outputs": []
    },
    {
      "metadata": {
        "id": "baip9ogPSXxn",
        "colab_type": "code",
        "colab": {}
      },
      "cell_type": "code",
      "source": [
        "from IPython.utils import io\n",
        "# suppress output, because hundreds of warnings are generated\n",
        "with io.capture_output() as captured:\n",
        "  # generating cobra variable from SBML/xml file\n",
        "  model = read_sbml_model('folder/mbt212871-sup-0003-AppendixS3.xml');"
      ],
      "execution_count": 0,
      "outputs": []
    },
    {
      "metadata": {
        "id": "LIPeYcBvZ0oT",
        "colab_type": "code",
        "colab": {}
      },
      "cell_type": "code",
      "source": [
        "# check on model consistency\n",
        "model"
      ],
      "execution_count": 0,
      "outputs": []
    },
    {
      "metadata": {
        "id": "Jn805mCObF2k",
        "colab_type": "text"
      },
      "cell_type": "markdown",
      "source": [
        "### Flux variability of exchange reactions\n",
        "\n",
        "Flux balance analysis provides a single optimal solution. Mostly, there exist a number of alternative flux distributions around the optimum, which can be physiologically relevant. To identify the variability of exchange fluxes around the optimum solution 'flux variability analysis' can be performed ([Mahadevan & Schilling, 2003](http://dx.doi.org/10.1016/j.ymben.2003.09.002))."
      ]
    },
    {
      "metadata": {
        "id": "2HiWV97jWhKI",
        "colab_type": "code",
        "colab": {}
      },
      "cell_type": "code",
      "source": [
        "solution = model.optimize()\n",
        "model.summary(fva=.95) # additional argument specifies allowed deviation from the optimum"
      ],
      "execution_count": 0,
      "outputs": []
    },
    {
      "metadata": {
        "id": "cvSOmwrZbNIG",
        "colab_type": "text"
      },
      "cell_type": "markdown",
      "source": [
        "### Media test\n",
        "The availability of nutrients has a major impact on metabolic fluxes and cobrapy provides some helpers to manage the exchanges between the external environment and the metabolic model. More detailed descriptions: [here](https://cobrapy.readthedocs.io/en/latest/media.html)"
      ]
    },
    {
      "metadata": {
        "id": "mEHqAD7nbL8n",
        "colab_type": "code",
        "colab": {}
      },
      "cell_type": "code",
      "source": [
        "from cobra.medium import minimal_medium\n",
        "\n",
        "max_growth = model.slim_optimize()\n",
        "minimal_medium(model, max_growth, minimize_components=True)\n"
      ],
      "execution_count": 0,
      "outputs": []
    },
    {
      "metadata": {
        "id": "xpFf1wR0QX4L",
        "colab_type": "text"
      },
      "cell_type": "markdown",
      "source": [
        "## Experimental growth rate reproduction"
      ]
    },
    {
      "metadata": {
        "id": "JsDpC6gVQigc",
        "colab_type": "text"
      },
      "cell_type": "markdown",
      "source": [
        "### Familiarizing with biomass composition reactions\n",
        "\n",
        "Microorganisms adapt to their substrate. Different substrates provide different energy content and require different cellular resources to become metabolized. In GSMM these differences may be represented by different equations/reactions for the substrates. In iMR1026 for *P. pastoris* there are various biomass equations for glucose, glycerol, glucose-glycerol mixtures, and methanol. When simulating a model, we have to make sure we use the right biomass equation fitting with the substrate."
      ]
    },
    {
      "metadata": {
        "id": "DBNmaT-fRpQz",
        "colab_type": "code",
        "colab": {}
      },
      "cell_type": "code",
      "source": [
        "# List of all reactions with 'BIOMASS' in their name\n",
        "model.reactions.query('BIOMASS')"
      ],
      "execution_count": 0,
      "outputs": []
    },
    {
      "metadata": {
        "id": "82QMmzXYR4br",
        "colab_type": "code",
        "colab": {}
      },
      "cell_type": "code",
      "source": [
        "# Looking in detail to biomass with methanol\n",
        "model.reactions.BIOMASS_meoh"
      ],
      "execution_count": 0,
      "outputs": []
    },
    {
      "metadata": {
        "id": "N_eSuR-EyQ-M",
        "colab_type": "text"
      },
      "cell_type": "markdown",
      "source": [
        "### Defining functions for correct biomass equation switch\n",
        "\n",
        "For each substrate, the boundary exchange fluxes are activated and the reactions of competing substrates are disabled.\n",
        "\n",
        "Remember to write a specific function to adapt the model for glucose utilization."
      ]
    },
    {
      "metadata": {
        "id": "XqM2cco0Qpn0",
        "colab_type": "code",
        "colab": {}
      },
      "cell_type": "code",
      "source": [
        "def AdaptMethanol(model, meoh_up):\n",
        "  model.objective = 'BIOMASS_meoh'\n",
        "  # setting uptake reactions right\n",
        "  model.reactions.Ex_glc_D.lower_bound = 0\n",
        "  model.reactions.Ex_glyc.lower_bound = 0\n",
        "  model.reactions.Ex_meoh.lower_bound = -np.abs(meoh_up)\n",
        "  # setting additional biomass composition\n",
        "  model.reactions.LIPIDS_meoh.upper_bound = 1000\n",
        "  model.reactions.PROTEINS_meoh.upper_bound = 1000\n",
        "  model.reactions.STEROLS_meoh.upper_bound = 1000\n",
        "  model.reactions.BIOMASS_meoh.upper_bound = 1000\n",
        "  # deactivating Glyc-based biomass composition\n",
        "  model.reactions.LIPIDS_glyc.upper_bound = 0\n",
        "  model.reactions.PROTEINS_glyc.upper_bound = 0\n",
        "  model.reactions.STEROLS_glyc.upper_bound = 0\n",
        "  model.reactions.BIOMASS_glyc.upper_bound = 0  \n",
        "  # deactivating Glc-based biomass composition\n",
        "  model.reactions.LIPIDS.upper_bound = 0\n",
        "  model.reactions.PROTEINS.upper_bound = 0\n",
        "  model.reactions.STEROLS.upper_bound = 0\n",
        "  model.reactions.BIOMASS.upper_bound = 0  \n",
        "  return model\n",
        "\n",
        "def AdaptGlycerol(model, glyc_up):\n",
        "  model.objective = 'BIOMASS_glyc'\n",
        "  # setting uptake reactions right\n",
        "  model.reactions.Ex_meoh.lower_bound = 0;\n",
        "  model.reactions.Ex_glc_D.lower_bound = 0;\n",
        "  model.reactions.Ex_glyc.lower_bound = -np.abs(glyc_up)\n",
        "  # setting additional biomass composition\n",
        "  model.reactions.LIPIDS_glyc.upper_bound = 1000\n",
        "  model.reactions.PROTEINS_glyc.upper_bound = 1000\n",
        "  model.reactions.STEROLS_glyc.upper_bound = 1000\n",
        "  model.reactions.BIOMASS_glyc.upper_bound = 1000  \n",
        "  # deactivating MeOH-based biomass composition\n",
        "  model.reactions.LIPIDS_meoh.upper_bound = 0\n",
        "  model.reactions.PROTEINS_meoh.upper_bound = 0\n",
        "  model.reactions.STEROLS_meoh.upper_bound = 0\n",
        "  model.reactions.BIOMASS_meoh.upper_bound = 0\n",
        "  # deactivating Glc-based biomass composition\n",
        "  model.reactions.LIPIDS.upper_bound = 0\n",
        "  model.reactions.PROTEINS.upper_bound = 0\n",
        "  model.reactions.STEROLS.upper_bound = 0\n",
        "  model.reactions.BIOMASS.upper_bound = 0\n",
        "  return model\n",
        "\n",
        "def AdaptGlucose(model, glc_up):\n",
        "  model.objective = 'BIOMASS'\n",
        "  # setting uptake reactions right\n",
        "  model.reactions.Ex_meoh.lower_bound = 0\n",
        "  model.reactions.Ex_glyc.lower_bound = 0\n",
        "  model.reactions.Ex_glc_D.lower_bound = -np.abs(glc_up)\n",
        "  # setting additional biomass composition\n",
        "  model.reactions.LIPIDS.upper_bound = 1000\n",
        "  model.reactions.PROTEINS.upper_bound = 1000\n",
        "  model.reactions.STEROLS.upper_bound = 1000\n",
        "  model.reactions.BIOMASS.upper_bound = 1000  \n",
        "  # deactivating Glyc-based biomass composition\n",
        "  model.reactions.LIPIDS_glyc.upper_bound = 0\n",
        "  model.reactions.PROTEINS_glyc.upper_bound = 0\n",
        "  model.reactions.STEROLS_glyc.upper_bound = 0\n",
        "  model.reactions.BIOMASS_glyc.upper_bound = 0  \n",
        "  # deactivating Glc-based biomass composition\n",
        "  model.reactions.LIPIDS_meoh.upper_bound = 0\n",
        "  model.reactions.PROTEINS_meoh.upper_bound = 0\n",
        "  model.reactions.STEROLS_meoh.upper_bound = 0\n",
        "  model.reactions.BIOMASS_meoh.upper_bound = 0\n",
        "  return model"
      ],
      "execution_count": 0,
      "outputs": []
    },
    {
      "metadata": {
        "id": "K045st1gSllg",
        "colab_type": "text"
      },
      "cell_type": "markdown",
      "source": [
        "### Data retrieval\n",
        "\n",
        "For evaluation of the growth rate prediction of the *P. pastoris* model we use experimental data from the closely related organism *Ogataea polymorpha*. The measurements in the table are extracted from [van Dijken et al. 1976](https://dx.doi.org/10.1007/bf00446560) for methanol and from [de Koning et al., 1987](https://dx.doi.org/10.1007/BF00456710) and [Moon et al., 2003](https://dx.doi.org/10.1385/ABAB:111:2:65).\n",
        "\n",
        "Data Address: [here](https://rwth-aachen.sciebo.de/s/o72jwWQWh3ame1e/download)"
      ]
    },
    {
      "metadata": {
        "id": "mfOlv0uiCNvI",
        "colab_type": "code",
        "colab": {}
      },
      "cell_type": "code",
      "source": [
        "# data = pd.read_csv('Opol-expt-grwth_.csv')\n",
        "data = pd.read_csv('/content/Opol-expt-grwth_MeOH-Glyc.csv')\n",
        "data\n"
      ],
      "execution_count": 0,
      "outputs": []
    },
    {
      "metadata": {
        "id": "aMLKO9MNe1fq",
        "colab_type": "text"
      },
      "cell_type": "markdown",
      "source": [
        "Adding measurements for glucose from Lehnen et al., 2017 to our basic data table."
      ]
    },
    {
      "metadata": {
        "id": "4mTMJvd0ZHFv",
        "colab_type": "code",
        "colab": {}
      },
      "cell_type": "code",
      "source": [
        "data = data.append({'Substrate':'Glucose', 'Exchange':'Ex_glc_D', 'uptake rate (mmol/gCDW/h)':5.9, 'Experiment growth rate (/h)':0.6, 'source':'Lehnen et al.'}, ignore_index=True)\n",
        "# data = data.append({'Substrate':'Glucose', 'Exchange':'???', 'uptake rate (mmol/gCDW/h)':np.nan, 'Experiment growth rate (/h)':np.nan, 'source':'Lehnen et al.'}, ignore_index=True)data "
      ],
      "execution_count": 0,
      "outputs": []
    },
    {
      "metadata": {
        "id": "Wxe3Csg0TtYV",
        "colab_type": "text"
      },
      "cell_type": "markdown",
      "source": [
        "### Simulation loop\n",
        "For-Loop over all experimental data points.\n",
        "\n",
        "Remember to add a decision when you include glucose."
      ]
    },
    {
      "metadata": {
        "id": "TPyYPHrXUMs1",
        "colab_type": "code",
        "colab": {}
      },
      "cell_type": "code",
      "source": [
        "growth_simulated = [];\n",
        "# test_model = model.copy()\n",
        "# iteration over all rows in 'data'\n",
        "for index, row in data.iterrows():\n",
        "  with model as test_model:\n",
        "    print(index) # printing the row number to get feedback that everything is working\n",
        "    # selecting the right substrate in the model based on 'Substrate' in 'data'\n",
        "    if row['Substrate'] == 'Methanol':\n",
        "      model = AdaptMethanol(test_model, row['uptake rate (mmol/gCDW/h)'])\n",
        "    elif row['Substrate'] == 'Glucose':\n",
        "      model = AdaptGlucose(test_model, row['uptake rate (mmol/gCDW/h)'])\n",
        "    elif row['Substrate'] == 'Glycerol':\n",
        "      model = AdaptGlycerol(test_model, row['uptake rate (mmol/gCDW/h)'])\n",
        "    else:\n",
        "      print('substrate not considered')      \n",
        "  #     model.optimize()\n",
        "    growth_simulated.append(model.slim_optimize())\n"
      ],
      "execution_count": 0,
      "outputs": []
    },
    {
      "metadata": {
        "id": "aN5SDn5yWJER",
        "colab_type": "text"
      },
      "cell_type": "markdown",
      "source": [
        "### Graphical output\n",
        "\n",
        "Remember to add glucose to the visualization."
      ]
    },
    {
      "metadata": {
        "id": "1DG-7h3qWLRi",
        "colab_type": "code",
        "colab": {
          "base_uri": "https://localhost:8080/",
          "height": 315
        },
        "outputId": "a75ae516-8881-4722-f022-3bcb7dd90a12"
      },
      "cell_type": "code",
      "source": [
        "plt.scatter(data['Experiment growth rate (/h)'][0:7], growth_simulated[0:7], s=50, c='k', marker='o');\n",
        "plt.scatter(data['Experiment growth rate (/h)'][7], growth_simulated[7], s=50, c='k', marker='s');\n",
        "plt.scatter(data['Experiment growth rate (/h)'][8], growth_simulated[8], s=50, c='k', marker='x');\n",
        "plt.xlabel('Experiment (/h)');\n",
        "plt.ylabel('Simulation (/h)');\n",
        "myline = np.linspace(0,np.max(growth_simulated),10);\n",
        "plt.plot(myline,myline,'k--');\n",
        "plt.title('Growth rate comparison');\n",
        "plt.legend(['Optimum','Methanol (van Dijken)','Glycerol (deKoning, Moon)','Glucose (Lehnen)'], loc=2);\n",
        "plt.style.use('seaborn-paper')\n",
        "\n",
        "# Saving figure\n",
        "plt.savefig('iMT1026_exp-vs-sim.png')"
      ],
      "execution_count": 93,
      "outputs": [
        {
          "output_type": "display_data",
          "data": {
            "image/png": "[encoded data removed]",
            "text/plain": [
              "<Figure size 460.8x316.8 with 1 Axes>"
            ]
          },
          "metadata": {
            "tags": []
          }
        }
      ]
    }
  ]
}