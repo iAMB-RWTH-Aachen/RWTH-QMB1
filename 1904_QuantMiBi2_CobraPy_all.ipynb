{
  "nbformat": 4,
  "nbformat_minor": 0,
  "metadata": {
    "colab": {
      "name": "1904_QuantMiBi2-CobraPy_all.ipynb",
      "version": "0.3.2",
      "provenance": [],
      "toc_visible": true,
      "include_colab_link": true
    },
    "kernelspec": {
      "name": "python3",
      "display_name": "Python 3"
    }
  },
  "cells": [
    {
      "cell_type": "markdown",
      "metadata": {
        "id": "view-in-github",
        "colab_type": "text"
      },
      "source": [
        "<a href=\"https://colab.research.google.com/github/uliebal/RWTH-QMB1/blob/master/1904_QuantMiBi2_CobraPy_all.ipynb\" target=\"_parent\"><img src=\"https://colab.research.google.com/assets/colab-badge.svg\" alt=\"Open In Colab\"/></a>"
      ]
    },
    {
      "metadata": {
        "id": "3FFJV76fCySr",
        "colab_type": "code",
        "colab": {}
      },
      "cell_type": "code",
      "source": [
        ""
      ],
      "execution_count": 0,
      "outputs": []
    },
    {
      "metadata": {
        "id": "dPnMzwQ_IWwZ",
        "colab_type": "text"
      },
      "cell_type": "markdown",
      "source": [
        "# Seminar Quantitativ Microbiology 2: \n",
        "# Simulation of Genome Scale Metabolic Models with CobraPy\n",
        "\n",
        "## Introduction\n",
        "The seminar provides a guide of how to work with genome scale metabolic models (GSMM) of micro-organisms. This seminar extends the introduction to CobraPy from the seminar in Quantitative Microbiology 1. The goal of this seminar is to identify minimal medium composition, extract information about and selecting the appropriate biomass composition formula and testing the reproduction of experimental data by the GSMM. We examine a recent model of *P. pastoris* ([Tomas-Gamisans et al., 2017](https://dx.doi.org/10.1111/1751-7915.12871)). This organism is of biotechnological relevance because it can glycosylate recombinant proteins for use as drugs and it can metabolize methanol as a potential alternative to petrol based chemistry ([Liebal et al., 2018](https://dx.doi.org/10.1016/j.mec.2018.e00075)).\n",
        "\n",
        "We will analyse the GSMM of *P. pastoris* to estimate for the exchange reactions the range of permissible flux values. This indicates which phenotypes we can expect during standard cultivation and can highlight easily overproduced metabolites. Subsequently, we will identify the minimal medium composition. An important property of GSMM is their ability to predict growth rates. We will extract experimentally measured growth rates for various substrates and compare them with predictions of the model. The data reproduction is exemplified with the substrates of methanol and glycerol and the self-learning task is to supplement growth rates based on glucose uptake rate from literature ([Lehnen et al., 2017](https://dx.doi.org/10.1016/j.meteno.2017.07.001))\n",
        "\n",
        "The seminar uses Jupyter notebooks, a new way to use and visualize code in the web. Such a notebook is composed of a sequence of cells. Cellls can be either text/comments, like this introduction, or it contains python code to be run. In this example the code is evaluated by the cloud service [Binder](https://mybinder.org/). The output for each code-cell is shown directly below it. For a overview on Jupyter notebooks read [this review](https://www.nature.com/articles/d41586-018-07196-1). Another usefull resource to develop Jupyter notebooks is via [Google Colaboration](https://colab.research.google.com).\n",
        "\n",
        "\n",
        "---\n",
        "\n",
        "## Tutorial Steps\n",
        "  * Set up of Python environment\n",
        "    * Basic libraries(sys, pandas, numpy, matplotlib, zipfile, cobrapy)\n",
        "  * Analysis of Genome Scale Metabolic Model\n",
        "    * Retrieval of GSMM for *P. pastoris*\n",
        "    * Flux variability on exchange reactions\n",
        "    * Minimal medium composition\n",
        "  * Experimental growth rate reproduction\n",
        "    * Familiarizing with biomass composition reactions\n",
        "    * Defining functions for correct biomass equation switch\n",
        "    * Data retrieval\n",
        "    * Simulation loop\n",
        "    * Graphical output\n"
      ]
    },
    {
      "metadata": {
        "id": "XRP3j145RXOi",
        "colab_type": "text"
      },
      "cell_type": "markdown",
      "source": [
        "## Set-up compute environment\n",
        "\n",
        "Before we can analyse GSMM, we have adjust the python environment that it integrates the cobrapy toolbox and downloading the GSMM."
      ]
    },
    {
      "metadata": {
        "id": "ewTIEAb4Rb2G",
        "colab_type": "text"
      },
      "cell_type": "markdown",
      "source": [
        "### Basic Python libraries \n",
        "Some libraries that facilitate data manipulation"
      ]
    },
    {
      "metadata": {
        "id": "6wxIUGOEReDX",
        "colab_type": "code",
        "colab": {}
      },
      "cell_type": "code",
      "source": [
        "import sys # loading commands to control/navigate within the system architecture\n",
        "# Loading pandas, a library for data manipulation\n",
        "# !{sys.executable} -m pip install pandas\n",
        "import pandas as pd\n",
        "\n",
        "# Loading numpy, a library fo manipulation of numbers\n",
        "import numpy as np\n",
        "\n",
        "# loading matplotlib, a library for visualization\n",
        "!{sys.executable} -m pip install matplotlib\n",
        "import matplotlib.pyplot as plt\n",
        "%matplotlib inline\n",
        "\n",
        "# in order to extraact the GSMM we need to process zip-files\n",
        "import zipfile"
      ],
      "execution_count": 0,
      "outputs": []
    },
    {
      "metadata": {
        "id": "GqG0RwE8RmRg",
        "colab_type": "text"
      },
      "cell_type": "markdown",
      "source": [
        "### Git-Installation of cobrapy"
      ]
    },
    {
      "metadata": {
        "id": "kngfNmC7RnAt",
        "colab_type": "code",
        "colab": {}
      },
      "cell_type": "code",
      "source": [
        "# loading cobrapy, a library dedicated to the analysis of genome scale metabolic models\n",
        "!{sys.executable} -m pip install git+https://github.com/opencobra/cobrapy;\n",
        "from cobra.io import read_sbml_model\n"
      ],
      "execution_count": 0,
      "outputs": []
    },
    {
      "metadata": {
        "id": "lTzR-LCwR18N",
        "colab_type": "text"
      },
      "cell_type": "markdown",
      "source": [
        "### GSMM download from original publication\n",
        "\n",
        "*P. pastoris* is an important biotechnological organism and several GSMMs have been generated. We will use the model generated by [Tomas-Gamisans et al., 2017](https://dx.doi.org/10.1111/1751-7915.12871). First, we download the zipped model and extract it. Subsequently we load it into cobra."
      ]
    },
    {
      "metadata": {
        "id": "J29I6wOhR261",
        "colab_type": "code",
        "colab": {}
      },
      "cell_type": "code",
      "source": [
        "!wget https://www.ncbi.nlm.nih.gov/pmc/articles/PMC5743807/bin/MBT2-11-224-s003.zip\n",
        "with zipfile.ZipFile('MBT2-11-224-s003.zip', 'r') as zip_ref:\n",
        "  zip_ref.extractall()\n"
      ],
      "execution_count": 0,
      "outputs": []
    },
    {
      "metadata": {
        "id": "baip9ogPSXxn",
        "colab_type": "code",
        "colab": {}
      },
      "cell_type": "code",
      "source": [
        "# capture (i.e. suppress) output, because hundreds of warnings are generated\n",
        "%%capture\n",
        "# generating cobra variable from SBML/xml file\n",
        "model = read_sbml_model('/content/folder/mbt212871-sup-0003-AppendixS3.xml');"
      ],
      "execution_count": 0,
      "outputs": []
    },
    {
      "metadata": {
        "id": "LIPeYcBvZ0oT",
        "colab_type": "code",
        "outputId": "edd3783b-1f2d-4c79-de27-859bd93db255",
        "colab": {
          "base_uri": "https://localhost:8080/",
          "height": 169
        }
      },
      "cell_type": "code",
      "source": [
        "# check on model consistency\n",
        "model"
      ],
      "execution_count": 6,
      "outputs": [
        {
          "output_type": "execute_result",
          "data": {
            "text/html": [
              "\n",
              "        <table>\n",
              "            <tr>\n",
              "                <td><strong>Name</strong></td>\n",
              "                <td>iMT1026v3</td>\n",
              "            </tr><tr>\n",
              "                <td><strong>Memory address</strong></td>\n",
              "                <td>0x07f6306b9d978</td>\n",
              "            </tr><tr>\n",
              "                <td><strong>Number of metabolites</strong></td>\n",
              "                <td>1706</td>\n",
              "            </tr><tr>\n",
              "                <td><strong>Number of reactions</strong></td>\n",
              "                <td>2237</td>\n",
              "            </tr><tr>\n",
              "                <td><strong>Number of groups</strong></td>\n",
              "                <td>65</td>\n",
              "            </tr><tr>\n",
              "                <td><strong>Objective expression</strong></td>\n",
              "                <td>1.0*Ex_biomass - 1.0*Ex_biomass_reverse_5354f</td>\n",
              "            </tr><tr>\n",
              "                <td><strong>Compartments</strong></td>\n",
              "                <td>Vacuole, Cytosol, Mitochondria, Peroxisome, Extracellular space, Endoplasmic Reticulum, Golgi Apparatus, Nucleus, Mitochondrial intermembrane space</td>\n",
              "            </tr>\n",
              "          </table>"
            ],
            "text/plain": [
              "<Model iMT1026v3 at 0x7f6306b9d978>"
            ]
          },
          "metadata": {
            "tags": []
          },
          "execution_count": 6
        }
      ]
    },
    {
      "metadata": {
        "id": "Jn805mCObF2k",
        "colab_type": "text"
      },
      "cell_type": "markdown",
      "source": [
        "### Flux variability of exchange reactions\n",
        "\n",
        "Flux balance analysis provides a single optimal solution. Mostly, there exist a number of alternative flux distributions around the optimum, which can be physiologically relevant. To identify the variability of exchange fluxes around the optimum solution 'flux variability analysis' can be performed ([Mahadevan & Schilling, 2003](http://dx.doi.org/10.1016/j.ymben.2003.09.002))."
      ]
    },
    {
      "metadata": {
        "id": "2HiWV97jWhKI",
        "colab_type": "code",
        "outputId": "a1751b17-ce94-44f2-c849-da29464184a4",
        "colab": {
          "base_uri": "https://localhost:8080/",
          "height": 231
        }
      },
      "cell_type": "code",
      "source": [
        "solution = model.optimize()\n",
        "model.summary(fva=.95) # additional argument specifies allowed deviation from the optimum"
      ],
      "execution_count": 8,
      "outputs": [
        {
          "output_type": "stream",
          "text": [
            "IN FLUXES                            OUT FLUXES                           OBJECTIVES\n",
            "-----------------------------------  -----------------------------------  ------------------\n",
            "id         Flux  Range               id           Flux  Range             Ex_biomass  0.0587\n",
            "------  -------  ------------------  ---------  ------  ----------------\n",
            "o2_e    1.42     [1.36, 1.52]        h2o_e      2.69    [2.59, 203]\n",
            "glyc_e  1        [0.957, 1]          co2_e      0.946   [0.849, 1.05]\n",
            "nh4_e   0.364    [0.346, 0.378]      h_e        0.381   [0.585, -1e+03]\n",
            "pi_e    0.0148   [0.014, 1e+03]      biomass_e  0.0587  [0.0557, 0.0587]\n",
            "so4_e   0.00257  [0.00244, 0.00322]  etoh_e     0       [0, 0.0533]\n",
            "                                     cit_e      0       [0, 0.0333]\n",
            "                                     abt_D_e    0       [0, 0.0268]\n",
            "                                     fab_e      0       [0, 0.00274]\n"
          ],
          "name": "stdout"
        }
      ]
    },
    {
      "metadata": {
        "id": "cvSOmwrZbNIG",
        "colab_type": "text"
      },
      "cell_type": "markdown",
      "source": [
        "### Media test\n",
        "The availability of nutrients has a major impact on metabolic fluxes and cobrapy provides some helpers to manage the exchanges between the external environment and the metabolic model. More detailed descriptions: [here](https://cobrapy.readthedocs.io/en/latest/media.html)"
      ]
    },
    {
      "metadata": {
        "id": "mEHqAD7nbL8n",
        "colab_type": "code",
        "colab": {
          "base_uri": "https://localhost:8080/",
          "height": 124
        },
        "outputId": "9cd64502-ff9f-436c-8604-3c49789a6918"
      },
      "cell_type": "code",
      "source": [
        "from cobra.medium import minimal_medium\n",
        "\n",
        "max_growth = model.slim_optimize()\n",
        "minimal_medium(model, max_growth, minimize_components=True)\n"
      ],
      "execution_count": 9,
      "outputs": [
        {
          "output_type": "execute_result",
          "data": {
            "text/plain": [
              "Ex_nh4     0.363899\n",
              "Ex_pi      0.014758\n",
              "Ex_o2      1.417765\n",
              "Ex_so4     0.002573\n",
              "Ex_glyc    1.000000\n",
              "dtype: float64"
            ]
          },
          "metadata": {
            "tags": []
          },
          "execution_count": 9
        }
      ]
    },
    {
      "metadata": {
        "id": "xpFf1wR0QX4L",
        "colab_type": "text"
      },
      "cell_type": "markdown",
      "source": [
        "## Integration of experimental growth rates o different substrates"
      ]
    },
    {
      "metadata": {
        "id": "JsDpC6gVQigc",
        "colab_type": "text"
      },
      "cell_type": "markdown",
      "source": [
        "### Adaptation of Biomass Composition"
      ]
    },
    {
      "metadata": {
        "id": "DBNmaT-fRpQz",
        "colab_type": "code",
        "colab": {
          "base_uri": "https://localhost:8080/",
          "height": 178
        },
        "outputId": "a6574eb3-014f-4cfa-f522-6ac2298a0421"
      },
      "cell_type": "code",
      "source": [
        "# List of all reactions with 'BIOMASS' in their name\n",
        "model.reactions.query('BIOMASS')"
      ],
      "execution_count": 10,
      "outputs": [
        {
          "output_type": "execute_result",
          "data": {
            "text/plain": [
              "[<Reaction BIOMASS at 0x7f6305a41cf8>,\n",
              " <Reaction BIOMASS8020 at 0x7f63055eacf8>,\n",
              " <Reaction BIOMASS6040 at 0x7f63055ead30>,\n",
              " <Reaction BIOMASS4060 at 0x7f63055eac50>,\n",
              " <Reaction BIOMASS8020b at 0x7f63055eaf28>,\n",
              " <Reaction BIOMASS6040b at 0x7f63055eada0>,\n",
              " <Reaction BIOMASS4060b at 0x7f63055f7e80>,\n",
              " <Reaction BIOMASS_glyc at 0x7f630553f7f0>,\n",
              " <Reaction BIOMASS_meoh at 0x7f630553f518>]"
            ]
          },
          "metadata": {
            "tags": []
          },
          "execution_count": 10
        }
      ]
    },
    {
      "metadata": {
        "id": "82QMmzXYR4br",
        "colab_type": "code",
        "colab": {
          "base_uri": "https://localhost:8080/",
          "height": 239
        },
        "outputId": "af78f06a-12bc-45c4-e354-29f51a13ecfa"
      },
      "cell_type": "code",
      "source": [
        "# Looking in detail to biomass with methanol\n",
        "model.reactions.BIOMASS_meoh"
      ],
      "execution_count": 15,
      "outputs": [
        {
          "output_type": "execute_result",
          "data": {
            "text/html": [
              "\n",
              "        <table>\n",
              "            <tr>\n",
              "                <td><strong>Reaction identifier</strong></td><td>BIOMASS_meoh</td>\n",
              "            </tr><tr>\n",
              "                <td><strong>Name</strong></td><td>Biomass composition (g/g)- Methanol</td>\n",
              "            </tr><tr>\n",
              "                <td><strong>Memory address</strong></td>\n",
              "                <td>0x07f630553f518</td>\n",
              "            </tr><tr>\n",
              "                <td><strong>Stoichiometry</strong></td>\n",
              "                <td>\n",
              "                    <p style='text-align:right'>0.2724 CARBOHYDRATES_c + 0.0018 DNA_c + 0.0197 LIPIDS_c + 0.5023 PROTEIN_c + 0.0649 RNA_c + 166.771 atp_c + cof_c + 166.771 h2o_c --> 166.771 adp_c + biomass_c + 166.771 h_c + 166.771 pi_c</p>\n",
              "                    <p style='text-align:right'>0.2724 Carbohydrates + 0.0018 DNA + 0.0197 Lipids + 0.5023 PROTEIN + 0.0649 RNA + 166.771 ATP + Cofactors and small molecules + 166.771 H2O --> 166.771 ADP + Biomass + 166.771 H+ + 166.771 Phosphate</p>\n",
              "                </td>\n",
              "            </tr><tr>\n",
              "                <td><strong>GPR</strong></td><td></td>\n",
              "            </tr><tr>\n",
              "                <td><strong>Lower bound</strong></td><td>0.0</td>\n",
              "            </tr><tr>\n",
              "                <td><strong>Upper bound</strong></td><td>0.0</td>\n",
              "            </tr>\n",
              "        </table>\n",
              "        "
            ],
            "text/plain": [
              "<Reaction BIOMASS_meoh at 0x7f630553f518>"
            ]
          },
          "metadata": {
            "tags": []
          },
          "execution_count": 15
        }
      ]
    },
    {
      "metadata": {
        "id": "XqM2cco0Qpn0",
        "colab_type": "code",
        "colab": {}
      },
      "cell_type": "code",
      "source": [
        "def AdaptMethanol(model, meoh_up):\n",
        "  # setting uptake reactions right\n",
        "  model.reactions.Ex_glc_D.lower_bound = 0\n",
        "  model.reactions.Ex_glyc.lower_bound = 0\n",
        "  model.reactions.Ex_meoh.lower_bound = -np.abs(meoh_up)\n",
        "  # setting additional biomass composition\n",
        "  model.reactions.LIPIDS_meoh.upper_bound = 1000\n",
        "  model.reactions.PROTEINS_meoh.upper_bound = 1000\n",
        "  model.reactions.STEROLS_meoh.upper_bound = 1000\n",
        "  model.reactions.BIOMASS_meoh.upper_bound = 1000\n",
        "  # deactivating Glc-based biomass composition\n",
        "  model.reactions.LIPIDS.upper_bound = 0\n",
        "  model.reactions.PROTEINS.upper_bound = 0\n",
        "  model.reactions.STEROLS.upper_bound = 0\n",
        "  model.reactions.BIOMASS.upper_bound = 0  \n",
        "  model.objective = 'BIOMASS_meoh'\n",
        "  return model\n",
        "\n",
        "def AdaptGlycerol(model, glyc_up):\n",
        "  # setting uptake reactions right\n",
        "  model.reactions.Ex_meoh.lower_bound = 0;\n",
        "  model.reactions.Ex_glc_D.lower_bound = 0;\n",
        "  model.reactions.Ex_glyc.lower_bound = -np.abs(glyc_up)\n",
        "  # setting additional biomass composition\n",
        "  model.reactions.LIPIDS.upper_bound = 1000\n",
        "  model.reactions.PROTEINS.upper_bound = 1000\n",
        "  model.reactions.STEROLS.upper_bound = 1000\n",
        "  model.reactions.BIOMASS_glyc.upper_bound = 1000  \n",
        "  # deactivating Glc-based biomass composition\n",
        "  model.reactions.LIPIDS_meoh.upper_bound = 0\n",
        "  model.reactions.PROTEINS_meoh.upper_bound = 0\n",
        "  model.reactions.STEROLS_meoh.upper_bound = 0\n",
        "  model.reactions.BIOMASS_meoh.upper_bound = 0\n",
        "  model.objective = 'BIOMASS_glyc'\n",
        "  return model\n",
        "\n",
        "def AdaptGlucose(model, glc_up):\n",
        "  # setting uptake reactions right\n",
        "  model.reactions.Ex_meoh.lower_bound = 0\n",
        "  model.reactions.Ex_glyc.lower_bound = 0\n",
        "  model.reactions.Ex_glc_D.lower_bound = -np.abs(glc_up)\n",
        "  # setting additional biomass composition\n",
        "  model.reactions.LIPIDS.upper_bound = 1000\n",
        "  model.reactions.PROTEINS.upper_bound = 1000\n",
        "  model.reactions.STEROLS.upper_bound = 1000\n",
        "  model.reactions.BIOMASS.upper_bound = 1000  \n",
        "  # deactivating Glc-based biomass composition\n",
        "  model.reactions.LIPIDS_meoh.upper_bound = 0\n",
        "  model.reactions.PROTEINS_meoh.upper_bound = 0\n",
        "  model.reactions.STEROLS_meoh.upper_bound = 0\n",
        "  model.reactions.BIOMASS_meoh.upper_bound = 0\n",
        "  model.objective = 'BIOMASS'\n",
        "  return model"
      ],
      "execution_count": 0,
      "outputs": []
    },
    {
      "metadata": {
        "id": "K045st1gSllg",
        "colab_type": "text"
      },
      "cell_type": "markdown",
      "source": [
        "### Loading data\n",
        "Data Address: [here](https://rwth-aachen.sciebo.de/s/o72jwWQWh3ame1e/download)"
      ]
    },
    {
      "metadata": {
        "id": "mfOlv0uiCNvI",
        "colab_type": "code",
        "outputId": "e4dfb2a9-ecf0-4c2a-feba-26aaf00be9a2",
        "colab": {
          "base_uri": "https://localhost:8080/",
          "height": 332
        }
      },
      "cell_type": "code",
      "source": [
        "data = pd.read_csv('/content/Opol-expt-grwth_all.csv')\n",
        "# data = pd.read_csv('/content/Opol-expt-grwth_MeOH-Glyc.csv')\n",
        "data.head(9)\n"
      ],
      "execution_count": 24,
      "outputs": [
        {
          "output_type": "execute_result",
          "data": {
            "text/html": [
              "<div>\n",
              "<style scoped>\n",
              "    .dataframe tbody tr th:only-of-type {\n",
              "        vertical-align: middle;\n",
              "    }\n",
              "\n",
              "    .dataframe tbody tr th {\n",
              "        vertical-align: top;\n",
              "    }\n",
              "\n",
              "    .dataframe thead th {\n",
              "        text-align: right;\n",
              "    }\n",
              "</style>\n",
              "<table border=\"1\" class=\"dataframe\">\n",
              "  <thead>\n",
              "    <tr style=\"text-align: right;\">\n",
              "      <th></th>\n",
              "      <th>Substrate</th>\n",
              "      <th>Exchange</th>\n",
              "      <th>uptake rate (mmol/gCDW/h)</th>\n",
              "      <th>Experiment growth rate (/h)</th>\n",
              "      <th>source</th>\n",
              "    </tr>\n",
              "  </thead>\n",
              "  <tbody>\n",
              "    <tr>\n",
              "      <th>0</th>\n",
              "      <td>Methanol</td>\n",
              "      <td>Ex_meoh</td>\n",
              "      <td>2.343750</td>\n",
              "      <td>0.024</td>\n",
              "      <td>van Dijken et al. (Fig.6)(10.1007/BF00446560)</td>\n",
              "    </tr>\n",
              "    <tr>\n",
              "      <th>1</th>\n",
              "      <td>Methanol</td>\n",
              "      <td>Ex_meoh</td>\n",
              "      <td>2.935606</td>\n",
              "      <td>0.031</td>\n",
              "      <td>van Dijken et al. (Fig.6)(10.1007/BF00446560)</td>\n",
              "    </tr>\n",
              "    <tr>\n",
              "      <th>2</th>\n",
              "      <td>Methanol</td>\n",
              "      <td>Ex_meoh</td>\n",
              "      <td>4.285714</td>\n",
              "      <td>0.048</td>\n",
              "      <td>van Dijken et al. (Fig.6)(10.1007/BF00446560)</td>\n",
              "    </tr>\n",
              "    <tr>\n",
              "      <th>3</th>\n",
              "      <td>Methanol</td>\n",
              "      <td>Ex_meoh</td>\n",
              "      <td>5.827703</td>\n",
              "      <td>0.069</td>\n",
              "      <td>van Dijken et al. (Fig.6)(10.1007/BF00446560)</td>\n",
              "    </tr>\n",
              "    <tr>\n",
              "      <th>4</th>\n",
              "      <td>Methanol</td>\n",
              "      <td>Ex_meoh</td>\n",
              "      <td>6.578947</td>\n",
              "      <td>0.080</td>\n",
              "      <td>van Dijken et al. (Fig.6)(10.1007/BF00446560)</td>\n",
              "    </tr>\n",
              "    <tr>\n",
              "      <th>5</th>\n",
              "      <td>Methanol</td>\n",
              "      <td>Ex_meoh</td>\n",
              "      <td>9.868421</td>\n",
              "      <td>0.120</td>\n",
              "      <td>van Dijken et al. (Fig.6)(10.1007/BF00446560)</td>\n",
              "    </tr>\n",
              "    <tr>\n",
              "      <th>6</th>\n",
              "      <td>Methanol</td>\n",
              "      <td>Ex_meoh</td>\n",
              "      <td>14.285714</td>\n",
              "      <td>0.160</td>\n",
              "      <td>van Dijken et al. (Fig.6)(10.1007/BF00446560)</td>\n",
              "    </tr>\n",
              "    <tr>\n",
              "      <th>7</th>\n",
              "      <td>Glycerol</td>\n",
              "      <td>Ex_glyc</td>\n",
              "      <td>7.125407</td>\n",
              "      <td>0.420</td>\n",
              "      <td>de Koning et al. (10.1007/BF00456710) and Moo...</td>\n",
              "    </tr>\n",
              "    <tr>\n",
              "      <th>8</th>\n",
              "      <td>Glucose</td>\n",
              "      <td>Ex_glc_D</td>\n",
              "      <td>5.900000</td>\n",
              "      <td>0.600</td>\n",
              "      <td>Lehnen et al. (10.1016/j.meteno.2017.07.001)</td>\n",
              "    </tr>\n",
              "  </tbody>\n",
              "</table>\n",
              "</div>"
            ],
            "text/plain": [
              "  Substrate  Exchange  uptake rate (mmol/gCDW/h)  Experiment growth rate (/h)  \\\n",
              "0  Methanol   Ex_meoh                   2.343750                        0.024   \n",
              "1  Methanol   Ex_meoh                   2.935606                        0.031   \n",
              "2  Methanol   Ex_meoh                   4.285714                        0.048   \n",
              "3  Methanol   Ex_meoh                   5.827703                        0.069   \n",
              "4  Methanol   Ex_meoh                   6.578947                        0.080   \n",
              "5  Methanol   Ex_meoh                   9.868421                        0.120   \n",
              "6  Methanol   Ex_meoh                  14.285714                        0.160   \n",
              "7  Glycerol   Ex_glyc                   7.125407                        0.420   \n",
              "8   Glucose  Ex_glc_D                   5.900000                        0.600   \n",
              "\n",
              "                                              source  \n",
              "0      van Dijken et al. (Fig.6)(10.1007/BF00446560)  \n",
              "1      van Dijken et al. (Fig.6)(10.1007/BF00446560)  \n",
              "2      van Dijken et al. (Fig.6)(10.1007/BF00446560)  \n",
              "3      van Dijken et al. (Fig.6)(10.1007/BF00446560)  \n",
              "4      van Dijken et al. (Fig.6)(10.1007/BF00446560)  \n",
              "5      van Dijken et al. (Fig.6)(10.1007/BF00446560)  \n",
              "6      van Dijken et al. (Fig.6)(10.1007/BF00446560)  \n",
              "7   de Koning et al. (10.1007/BF00456710) and Moo...  \n",
              "8       Lehnen et al. (10.1016/j.meteno.2017.07.001)  "
            ]
          },
          "metadata": {
            "tags": []
          },
          "execution_count": 24
        }
      ]
    },
    {
      "metadata": {
        "id": "Wxe3Csg0TtYV",
        "colab_type": "text"
      },
      "cell_type": "markdown",
      "source": [
        "### Simulating Experiment\n",
        "For-Loop over all experimental data points."
      ]
    },
    {
      "metadata": {
        "id": "TPyYPHrXUMs1",
        "colab_type": "code",
        "colab": {
          "base_uri": "https://localhost:8080/",
          "height": 178
        },
        "outputId": "5d72fa3f-ef9b-470a-985d-fa337f2b588c"
      },
      "cell_type": "code",
      "source": [
        "growth_simulated = [];\n",
        "with model as test_model:\n",
        "# test_model = model.copy()\n",
        "  # iteration over all rows in 'data'\n",
        "  for index, row in data.iterrows():\n",
        "    print(index) # printing the row number to get feedback that everything is working\n",
        "    # selecting the right substrate in the model based on 'Substrate' in 'data'\n",
        "    if row['Substrate'] == 'Methanol':\n",
        "      model = AdaptMethanol(test_model, row['uptake rate (mmol/gCDW/h)'])\n",
        "    elif row['Substrate'] == 'Glucose':\n",
        "      model = AdaptGlucose(test_model, row['uptake rate (mmol/gCDW/h)'])\n",
        "    elif row['Substrate'] == 'Glycerol':\n",
        "      model = AdaptGlycerol(test_model, row['uptake rate (mmol/gCDW/h)'])\n",
        "    else:\n",
        "      print('substrate not considered')      \n",
        "#     model.optimize()\n",
        "    growth_simulated.append(model.slim_optimize())\n"
      ],
      "execution_count": 25,
      "outputs": [
        {
          "output_type": "stream",
          "text": [
            "0\n",
            "1\n",
            "2\n",
            "3\n",
            "4\n",
            "5\n",
            "6\n",
            "7\n",
            "8\n"
          ],
          "name": "stdout"
        }
      ]
    },
    {
      "metadata": {
        "id": "aN5SDn5yWJER",
        "colab_type": "text"
      },
      "cell_type": "markdown",
      "source": [
        "### Plotting results"
      ]
    },
    {
      "metadata": {
        "id": "1DG-7h3qWLRi",
        "colab_type": "code",
        "colab": {
          "base_uri": "https://localhost:8080/",
          "height": 315
        },
        "outputId": "53f4a9ee-a35f-47d1-d7c8-4a93ecc9cea1"
      },
      "cell_type": "code",
      "source": [
        "plt.scatter(data['Experiment growth rate (/h)'][0:7], growth_simulated[0:7], s=50, c='k', marker='o', );\n",
        "plt.scatter(data['Experiment growth rate (/h)'][7], growth_simulated[7], s=50, c='k', marker='s');\n",
        "plt.scatter(data['Experiment growth rate (/h)'][8], growth_simulated[8], s=50, c='k', marker='x');plt.xlabel('Experiment (/h)');\n",
        "plt.ylabel('Simulation (/h)');\n",
        "myline = np.linspace(0,np.max(growth_simulated),10);\n",
        "plt.plot(myline,myline,'k--');\n",
        "plt.title('Growth rate comparison');\n",
        "plt.legend(['Optimum','Methanol (van Dijken)','Glycerol (deKoning, Moon)','Glucose (Lehnen)'], loc=2);\n",
        "plt.style.use('seaborn-paper')\n",
        "\n",
        "# Saving figure\n",
        "plt.savefig('iMT1026_exp-vs-sim.png')"
      ],
      "execution_count": 54,
      "outputs": [
        {
          "output_type": "display_data",
          "data": {
            "image/png": "[encoded data removed]",
            "text/plain": [
              "<Figure size 460.8x316.8 with 1 Axes>"
            ]
          },
          "metadata": {
            "tags": []
          }
        }
      ]
    }
  ]
}