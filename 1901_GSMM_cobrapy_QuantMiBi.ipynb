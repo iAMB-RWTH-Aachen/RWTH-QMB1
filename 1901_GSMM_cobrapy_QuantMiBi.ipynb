{
  "nbformat": 4,
  "nbformat_minor": 0,
  "metadata": {
    "colab": {
      "name": "1901_GSMM-cobrapy_QuantMiBi.ipynb",
      "version": "0.3.2",
      "provenance": []
    },
    "kernelspec": {
      "name": "python3",
      "display_name": "Python 3"
    }
  },
  "cells": [
    {
      "metadata": {
        "id": "dl47yVVDB91m",
        "colab_type": "code",
        "colab": {}
      },
      "cell_type": "code",
      "source": [
        "#@title . {display-mode: \"form\"}\n",
        "\n",
        "# ###Details to Jupyter education\n",
        "# The following sites provide guides to using Jupyter notebooks for educational means:\n",
        "# * https://jupyter4edu.github.io/jupyter-edu-book/index.html\n",
        "# * https://github.com/jperkel/example_notebook\n",
        "# * https://github.com/jupyter/jupyter/wiki/A-gallery-of-interesting-Jupyter-Notebooks#mathematics-physics-chemistry-biology\n",
        "# * https://github.com/binder-examples/\n",
        "# * https://nbviewer.jupyter.org/\n",
        "# * https://jupyter.readthedocs.io/en/latest/index.html\n",
        "\n",
        "# more on cobrapy:\n",
        "# * https://cobrapy.readthedocs.io/en/latest/getting_started.html\n",
        "\n",
        "# further material with cameo:\n",
        "# !pip install cameo\n"
      ],
      "execution_count": 0,
      "outputs": []
    },
    {
      "metadata": {
        "id": "_XiYNRBT5sFj",
        "colab_type": "text"
      },
      "cell_type": "markdown",
      "source": [
        "# Seminar Quantitative Mikrobiologie\n",
        "## Hands-on simulation genome scale metabolic models\n",
        "\n",
        "The seminar is supposed to give you insight of how to work with genome scale metabolic models (GSMM) of micro-organisms. The goal is to get suggestions for genetic manipulation in order to over-produce the metabolite ???.\n",
        "\n",
        "The seminar uses Jupyter notebooks, a new way to use and visualize code in the web. Such a notebook is composed of a sequence of cells. Cellls can be either text/comments, like this introduction, or it contains python code to be run. In this example the code is evaluated by the cloud service [Binder](https://mybinder.org/). The output for each code-cell is shown directly below it. For a overview on Jupyter notebooks read [this review](https://www.nature.com/articles/d41586-018-07196-1).\n",
        "\n",
        "The content of the seminar is adapted from a tutorial by the project Data-Driven Design of Cell Factories and Communities (DD-DeCaF) as well as workshop information available [here](https://biosustain.github.io/cell-factory-design-course/). More information on DD-DeDaF and the original files are [here](https://github.com/DD-DeCaF/tutorials). The simulations are performed using cobrapy (see [Ebrahim et al., 2013](https://doi.org/10.1186/1752-0509-7-74)), the most widely used analysis tool for genome scale metabolic models.\n",
        "\n",
        "The steps of this tutorial are:\n",
        " * Set-up of compute environment\n",
        "   * getting *E. coli* GSMM\n",
        " * Simulation of model performance\n",
        " * Manipulating the model\n",
        "\n",
        "Skills you learn:\n",
        "* Familiarizing with Jupyter notebooks\n",
        "* Retrieving genome scale model files\n",
        "* Manipulating and Simulating GSMM with cobrapy   \n",
        "\n"
      ]
    },
    {
      "metadata": {
        "id": "J5iOaouMfopo",
        "colab_type": "text"
      },
      "cell_type": "markdown",
      "source": [
        "## Set-up compute environment\n",
        "\n",
        "Before we can analyse GSMM, we have adjust the python environment that it integrates the cobrapy toolbox and downloading the GSMM."
      ]
    },
    {
      "metadata": {
        "id": "dUUbHNWChyCI",
        "colab_type": "text"
      },
      "cell_type": "markdown",
      "source": [
        "### Git-Installation of cobrapy"
      ]
    },
    {
      "metadata": {
        "id": "AuhR0fTMvPCP",
        "colab_type": "code",
        "colab": {
          "base_uri": "https://localhost:8080/",
          "height": 430
        },
        "outputId": "47859180-a979-43de-92e0-bcc67b7cc8a1"
      },
      "cell_type": "code",
      "source": [
        "!pip install git+https://github.com/opencobra/cobrapy;\n",
        "from cobra.io import read_sbml_model"
      ],
      "execution_count": 15,
      "outputs": [
        {
          "output_type": "stream",
          "text": [
            "Collecting git+https://github.com/opencobra/cobrapy\n",
            "  Cloning https://github.com/opencobra/cobrapy to /tmp/pip-req-build-tvjkr_sv\n",
            "Requirement already satisfied (use --upgrade to upgrade): cobra==0.14.1 from git+https://github.com/opencobra/cobrapy in /usr/local/lib/python3.6/dist-packages\n",
            "Requirement already satisfied: six in /usr/local/lib/python3.6/dist-packages (from cobra==0.14.1) (1.11.0)\n",
            "Requirement already satisfied: future in /usr/local/lib/python3.6/dist-packages (from cobra==0.14.1) (0.16.0)\n",
            "Requirement already satisfied: swiglpk in /usr/local/lib/python3.6/dist-packages (from cobra==0.14.1) (4.65.0)\n",
            "Requirement already satisfied: ruamel.yaml>=0.15 in /usr/local/lib/python3.6/dist-packages (from cobra==0.14.1) (0.15.85)\n",
            "Requirement already satisfied: numpy>=1.13 in /usr/local/lib/python3.6/dist-packages (from cobra==0.14.1) (1.14.6)\n",
            "Requirement already satisfied: pandas>=0.17.0 in /usr/local/lib/python3.6/dist-packages (from cobra==0.14.1) (0.22.0)\n",
            "Requirement already satisfied: optlang>=1.4.2 in /usr/local/lib/python3.6/dist-packages (from cobra==0.14.1) (1.4.4)\n",
            "Requirement already satisfied: tabulate in /usr/local/lib/python3.6/dist-packages (from cobra==0.14.1) (0.8.2)\n",
            "Requirement already satisfied: depinfo in /usr/local/lib/python3.6/dist-packages (from cobra==0.14.1) (1.4.0)\n",
            "Requirement already satisfied: pytz>=2011k in /usr/local/lib/python3.6/dist-packages (from pandas>=0.17.0->cobra==0.14.1) (2018.7)\n",
            "Requirement already satisfied: python-dateutil>=2 in /usr/local/lib/python3.6/dist-packages (from pandas>=0.17.0->cobra==0.14.1) (2.5.3)\n",
            "Requirement already satisfied: sympy>=1.0.0 in /usr/local/lib/python3.6/dist-packages (from optlang>=1.4.2->cobra==0.14.1) (1.1.1)\n",
            "Requirement already satisfied: pipdeptree in /usr/local/lib/python3.6/dist-packages (from depinfo->cobra==0.14.1) (0.13.1)\n",
            "Requirement already satisfied: mpmath>=0.19 in /usr/local/lib/python3.6/dist-packages (from sympy>=1.0.0->optlang>=1.4.2->cobra==0.14.1) (1.1.0)\n",
            "Requirement already satisfied: pip>=6.0.0 in /usr/local/lib/python3.6/dist-packages (from pipdeptree->depinfo->cobra==0.14.1) (18.1)\n",
            "Building wheels for collected packages: cobra\n",
            "  Running setup.py bdist_wheel for cobra ... \u001b[?25l-\b \b\\\b \b|\b \b/\b \bdone\n",
            "\u001b[?25h  Stored in directory: /tmp/pip-ephem-wheel-cache-s96ndori/wheels/2e/ee/1f/64b67efcfae5b2fa20cf92cc1ffca40a42b60e7a44d1a3efa3\n",
            "Successfully built cobra\n"
          ],
          "name": "stdout"
        }
      ]
    },
    {
      "metadata": {
        "id": "boR9WTVXio4f",
        "colab_type": "text"
      },
      "cell_type": "markdown",
      "source": [
        "### GSMM Download from BIGG\n",
        "\n",
        "In the following we download the *E. coli* model iJO1366 ([Orth et al., 2011](http://dx.doi.org/10.1038/msb.2011.65))."
      ]
    },
    {
      "metadata": {
        "id": "Ayk-ws_F0g5n",
        "colab_type": "code",
        "colab": {
          "base_uri": "https://localhost:8080/",
          "height": 214
        },
        "outputId": "8eace331-f9e9-4e08-f022-94c83fbdd6e4"
      },
      "cell_type": "code",
      "source": [
        "!wget http://bigg.ucsd.edu/static/models/iJO1366.xml.gz"
      ],
      "execution_count": 3,
      "outputs": [
        {
          "output_type": "stream",
          "text": [
            "--2019-01-08 09:43:51--  http://bigg.ucsd.edu/static/models/iJO1366.xml.gz\n",
            "Resolving bigg.ucsd.edu (bigg.ucsd.edu)... 132.239.8.55\n",
            "Connecting to bigg.ucsd.edu (bigg.ucsd.edu)|132.239.8.55|:80... connected.\n",
            "HTTP request sent, awaiting response... 200 OK\n",
            "Length: 395496 (386K) [application/gzip]\n",
            "Saving to: ‘iJO1366.xml.gz’\n",
            "\n",
            "iJO1366.xml.gz      100%[===================>] 386.23K  1.43MB/s    in 0.3s    \n",
            "\n",
            "2019-01-08 09:43:52 (1.43 MB/s) - ‘iJO1366.xml.gz’ saved [395496/395496]\n",
            "\n"
          ],
          "name": "stdout"
        }
      ]
    },
    {
      "metadata": {
        "id": "kydPvEnWjgK1",
        "colab_type": "text"
      },
      "cell_type": "markdown",
      "source": [
        "## Simulation of model performance\n",
        "\n",
        "First we have a look at general features of the model. Then we check which reaction is optimized and perform a simulation to find the optimal flux distribution to maximize the optimized reaction."
      ]
    },
    {
      "metadata": {
        "id": "kACRk6bUkPuu",
        "colab_type": "text"
      },
      "cell_type": "markdown",
      "source": [
        "### Inspection of model features"
      ]
    },
    {
      "metadata": {
        "id": "QIfWKtApmfgj",
        "colab_type": "text"
      },
      "cell_type": "markdown",
      "source": [
        "Converting the GSMM file from the BIGG database into the 'model' data-structure that can be evaluated by the cobrapy toolbox."
      ]
    },
    {
      "metadata": {
        "id": "5MWD8v28z30_",
        "colab_type": "code",
        "colab": {}
      },
      "cell_type": "code",
      "source": [
        "model = read_sbml_model('iJO1366.xml.gz')"
      ],
      "execution_count": 0,
      "outputs": []
    },
    {
      "metadata": {
        "id": "Qg9HaeT7mylQ",
        "colab_type": "text"
      },
      "cell_type": "markdown",
      "source": [
        "Just calling the variable 'model' shows some basic features of the model."
      ]
    },
    {
      "metadata": {
        "id": "jrfSyn46kVy5",
        "colab_type": "code",
        "colab": {
          "base_uri": "https://localhost:8080/",
          "height": 147
        },
        "outputId": "1aa47249-50c4-401b-e578-ae8e62cd384e"
      },
      "cell_type": "code",
      "source": [
        "model"
      ],
      "execution_count": 16,
      "outputs": [
        {
          "output_type": "execute_result",
          "data": {
            "text/html": [
              "\n",
              "        <table>\n",
              "            <tr>\n",
              "                <td><strong>Name</strong></td>\n",
              "                <td>iJO1366</td>\n",
              "            </tr><tr>\n",
              "                <td><strong>Memory address</strong></td>\n",
              "                <td>0x07f7dc0c7ae48</td>\n",
              "            </tr><tr>\n",
              "                <td><strong>Number of metabolites</strong></td>\n",
              "                <td>1805</td>\n",
              "            </tr><tr>\n",
              "                <td><strong>Number of reactions</strong></td>\n",
              "                <td>2583</td>\n",
              "            </tr><tr>\n",
              "                <td><strong>Objective expression</strong></td>\n",
              "                <td>1.0*BIOMASS_Ec_iJO1366_core_53p95M - 1.0*BIOMASS_Ec_iJO1366_core_53p95M_reverse_5c8b1</td>\n",
              "            </tr><tr>\n",
              "                <td><strong>Compartments</strong></td>\n",
              "                <td>cytosol, extracellular space, periplasm</td>\n",
              "            </tr>\n",
              "          </table>"
            ],
            "text/plain": [
              "<Model iJO1366 at 0x7f7dc0c7ae48>"
            ]
          },
          "metadata": {
            "tags": []
          },
          "execution_count": 16
        }
      ]
    },
    {
      "metadata": {
        "id": "96xC6BvQt2MT",
        "colab_type": "text"
      },
      "cell_type": "markdown",
      "source": [
        "Display model objective (a reverse reaction is present as well, just for mathematical reasons)"
      ]
    },
    {
      "metadata": {
        "id": "1fMjuY_wt5OU",
        "colab_type": "code",
        "colab": {
          "base_uri": "https://localhost:8080/",
          "height": 53
        },
        "outputId": "a802bc26-1156-47fd-90fd-044c4fbb4418"
      },
      "cell_type": "code",
      "source": [
        "print(model.objective)\n",
        "# model.reactions.query(\"BIOMASS\")"
      ],
      "execution_count": 31,
      "outputs": [
        {
          "output_type": "stream",
          "text": [
            "Maximize\n",
            "1.0*BIOMASS_Ec_iJO1366_core_53p95M - 1.0*BIOMASS_Ec_iJO1366_core_53p95M_reverse_5c8b1\n"
          ],
          "name": "stdout"
        }
      ]
    },
    {
      "metadata": {
        "id": "aczhIFJC1qo9",
        "colab_type": "text"
      },
      "cell_type": "markdown",
      "source": [
        "generate a visualization of the stoichiometric matrix"
      ]
    },
    {
      "metadata": {
        "id": "jETqvMPa1uZ2",
        "colab_type": "code",
        "colab": {
          "base_uri": "https://localhost:8080/",
          "height": 283
        },
        "outputId": "1615ad99-0280-44b7-e60c-a5eef5de747c"
      },
      "cell_type": "code",
      "source": [
        "from cobra.util import create_stoichiometric_matrix\n",
        "import matplotlib.pyplot as plt\n",
        "%matplotlib inline\n",
        "\n",
        "stoich_matrix = create_stoichiometric_matrix(model)\n",
        "plt.spy(stoich_matrix, precision=0.01, markersize=.2)"
      ],
      "execution_count": 42,
      "outputs": [
        {
          "output_type": "execute_result",
          "data": {
            "text/plain": [
              "<matplotlib.lines.Line2D at 0x7f7dbf7fe7f0>"
            ]
          },
          "metadata": {
            "tags": []
          },
          "execution_count": 42
        },
        {
          "output_type": "display_data",
          "data": {
            "image/png": "[encoded data removed]",
            "text/plain": [
              "<matplotlib.figure.Figure at 0x7f7dd65d1b70>"
            ]
          },
          "metadata": {
            "tags": []
          }
        }
      ]
    },
    {
      "metadata": {
        "id": "j6DhooOirvqr",
        "colab_type": "text"
      },
      "cell_type": "markdown",
      "source": [
        "### Details to metabolite glyceraldehyde-3-phosphate\n",
        "\n",
        "In the following we extract information of cytoplasmic glyceraldehyde-3-phosphate.\n",
        "Finding metabolites that contain 'g3p_c'."
      ]
    },
    {
      "metadata": {
        "id": "071vAEIov7mF",
        "colab_type": "code",
        "colab": {
          "base_uri": "https://localhost:8080/",
          "height": 321
        },
        "outputId": "335962ae-bbe4-4f56-cbd8-ffb8e03dfae1"
      },
      "cell_type": "code",
      "source": [
        "model.metabolites.query('g3p_c')"
      ],
      "execution_count": 39,
      "outputs": [
        {
          "output_type": "execute_result",
          "data": {
            "text/plain": [
              "[<Metabolite 1ddecg3p_c at 0x7f7dc0b95e10>,\n",
              " <Metabolite 1hdec9eg3p_c at 0x7f7dc0b95e80>,\n",
              " <Metabolite 1hdecg3p_c at 0x7f7dc0b95f60>,\n",
              " <Metabolite 1odec11eg3p_c at 0x7f7dc0b95f28>,\n",
              " <Metabolite 1odecg3p_c at 0x7f7dc0b46080>,\n",
              " <Metabolite 1tdec7eg3p_c at 0x7f7dc0b46358>,\n",
              " <Metabolite 1tdecg3p_c at 0x7f7dc0b463c8>,\n",
              " <Metabolite 2ddecg3p_c at 0x7f7dc0b57b70>,\n",
              " <Metabolite 2hdec9eg3p_c at 0x7f7dc0b681d0>,\n",
              " <Metabolite 2hdecg3p_c at 0x7f7dc0b68240>,\n",
              " <Metabolite 2odec11eg3p_c at 0x7f7dc0b68eb8>,\n",
              " <Metabolite 2odecg3p_c at 0x7f7dc0b68f28>,\n",
              " <Metabolite 2tdec7eg3p_c at 0x7f7dc0b6df28>,\n",
              " <Metabolite 2tdecg3p_c at 0x7f7dc0b74080>,\n",
              " <Metabolite 3ig3p_c at 0x7f7dc0b0b3c8>,\n",
              " <Metabolite eig3p_c at 0x7f7dc0a607b8>,\n",
              " <Metabolite g3p_c at 0x7f7dc0a7abe0>]"
            ]
          },
          "metadata": {
            "tags": []
          },
          "execution_count": 39
        }
      ]
    },
    {
      "metadata": {
        "id": "ra9noHxBr0pd",
        "colab_type": "text"
      },
      "cell_type": "markdown",
      "source": [
        "More specific information"
      ]
    },
    {
      "metadata": {
        "id": "IcU6K5Xoq5WF",
        "colab_type": "code",
        "colab": {
          "base_uri": "https://localhost:8080/",
          "height": 147
        },
        "outputId": "fbb5b6b2-93e9-4e48-d156-8224e55da729"
      },
      "cell_type": "code",
      "source": [
        "model.metabolites.get_by_id('g3p_c')\n",
        "\n",
        "# model.metabolites.g3p_c.reactions\n",
        "## displays all reactions associated with g3p_c\n",
        "## dot notation only works for 'proper' variable names, i.e. not for names starting with numbers (e.g. 10fthf_c)"
      ],
      "execution_count": 27,
      "outputs": [
        {
          "output_type": "execute_result",
          "data": {
            "text/html": [
              "\n",
              "        <table>\n",
              "            <tr>\n",
              "                <td><strong>Metabolite identifier</strong></td><td>g3p_c</td>\n",
              "            </tr><tr>\n",
              "                <td><strong>Name</strong></td><td>Glyceraldehyde 3-phosphate</td>\n",
              "            </tr><tr>\n",
              "                <td><strong>Memory address</strong></td>\n",
              "                <td>0x07f7dc0a7abe0</td>\n",
              "            </tr><tr>\n",
              "                <td><strong>Formula</strong></td><td>C3H5O6P</td>\n",
              "            </tr><tr>\n",
              "                <td><strong>Compartment</strong></td><td>c</td>\n",
              "            </tr><tr>\n",
              "                <td><strong>In 14 reaction(s)</strong></td><td>\n",
              "                    FBA, DRPA, TALA, TRPS3, TGBPA, GAPD, TKT1, TRPS1, DDPGALA, TKT2, EDA, TPI, F6PA, DXPS</td>\n",
              "            </tr>\n",
              "        </table>"
            ],
            "text/plain": [
              "<Metabolite g3p_c at 0x7f7dc0a7abe0>"
            ]
          },
          "metadata": {
            "tags": []
          },
          "execution_count": 27
        }
      ]
    },
    {
      "metadata": {
        "id": "6cJEODhfsUeW",
        "colab_type": "text"
      },
      "cell_type": "markdown",
      "source": [
        "Explicit list of reactions with reactants"
      ]
    },
    {
      "metadata": {
        "id": "9cujzjsBsaUe",
        "colab_type": "code",
        "colab": {
          "base_uri": "https://localhost:8080/",
          "height": 267
        },
        "outputId": "5fef9d98-26c1-4541-bb48-7c4cadd3a619"
      },
      "cell_type": "code",
      "source": [
        "for reaction in model.metabolites.g3p_c.reactions:\n",
        "    print(reaction, reaction.name)"
      ],
      "execution_count": 29,
      "outputs": [
        {
          "output_type": "stream",
          "text": [
            "FBA: fdp_c <=> dhap_c + g3p_c Fructose-bisphosphate aldolase\n",
            "DRPA: 2dr5p_c --> acald_c + g3p_c Deoxyribose-phosphate aldolase\n",
            "TALA: g3p_c + s7p_c <=> e4p_c + f6p_c Transaldolase\n",
            "TRPS3: 3ig3p_c --> g3p_c + indole_c Tryptophan synthase (indoleglycerol phosphate)\n",
            "TGBPA: tagdp__D_c <=> dhap_c + g3p_c Tagatose-bisphosphate aldolase\n",
            "GAPD: g3p_c + nad_c + pi_c <=> 13dpg_c + h_c + nadh_c Glyceraldehyde-3-phosphate dehydrogenase\n",
            "TKT1: r5p_c + xu5p__D_c <=> g3p_c + s7p_c Transketolase\n",
            "TRPS1: 3ig3p_c + ser__L_c --> g3p_c + h2o_c + trp__L_c Tryptophan synthase (indoleglycerol phosphate)\n",
            "DDPGALA: 2dh3dgal6p_c <=> g3p_c + pyr_c 2-dehydro-3-deoxy-6-phosphogalactonate aldolase\n",
            "TKT2: e4p_c + xu5p__D_c <=> f6p_c + g3p_c Transketolase\n",
            "EDA: 2ddg6p_c --> g3p_c + pyr_c 2-dehydro-3-deoxy-phosphogluconate aldolase\n",
            "TPI: dhap_c <=> g3p_c Triose-phosphate isomerase\n",
            "F6PA: f6p_c <=> dha_c + g3p_c Fructose 6-phosphate aldolase\n",
            "DXPS: g3p_c + h_c + pyr_c --> co2_c + dxyl5p_c 1-deoxy-D-xylulose 5-phosphate synthase\n"
          ],
          "name": "stdout"
        }
      ]
    },
    {
      "metadata": {
        "id": "r-iTdtzBtez8",
        "colab_type": "text"
      },
      "cell_type": "markdown",
      "source": [
        "Investigating a particular reaction: GAPD\n",
        "GPR shows the 'Gene-Protein-Reaction' relationship"
      ]
    },
    {
      "metadata": {
        "id": "FsLRzVTXtibU",
        "colab_type": "code",
        "colab": {
          "base_uri": "https://localhost:8080/",
          "height": 204
        },
        "outputId": "79fac271-cc85-4504-cb09-e74a910a1502"
      },
      "cell_type": "code",
      "source": [
        "model.reactions.GAPD"
      ],
      "execution_count": 30,
      "outputs": [
        {
          "output_type": "execute_result",
          "data": {
            "text/html": [
              "\n",
              "        <table>\n",
              "            <tr>\n",
              "                <td><strong>Reaction identifier</strong></td><td>GAPD</td>\n",
              "            </tr><tr>\n",
              "                <td><strong>Name</strong></td><td>Glyceraldehyde-3-phosphate dehydrogenase</td>\n",
              "            </tr><tr>\n",
              "                <td><strong>Memory address</strong></td>\n",
              "                <td>0x07f7dbfb00898</td>\n",
              "            </tr><tr>\n",
              "                <td><strong>Stoichiometry</strong></td>\n",
              "                <td>\n",
              "                    <p style='text-align:right'>g3p_c + nad_c + pi_c <=> 13dpg_c + h_c + nadh_c</p>\n",
              "                    <p style='text-align:right'>Glyceraldehyde 3-phosphate + Nicotinamide adenine dinucleotide + Phosphate <=> 3-Phospho-D-glyceroyl phosphate + H+ + Nicotinamide adenine dinucleotide - reduced</p>\n",
              "                </td>\n",
              "            </tr><tr>\n",
              "                <td><strong>GPR</strong></td><td>b1779</td>\n",
              "            </tr><tr>\n",
              "                <td><strong>Lower bound</strong></td><td>-1000.0</td>\n",
              "            </tr><tr>\n",
              "                <td><strong>Upper bound</strong></td><td>1000.0</td>\n",
              "            </tr>\n",
              "        </table>\n",
              "        "
            ],
            "text/plain": [
              "<Reaction GAPD at 0x7f7dbfb00898>"
            ]
          },
          "metadata": {
            "tags": []
          },
          "execution_count": 30
        }
      ]
    },
    {
      "metadata": {
        "id": "2ZU1YVhr3py6",
        "colab_type": "text"
      },
      "cell_type": "markdown",
      "source": [
        "### Output of medium composition\n",
        "\n",
        "Here "
      ]
    },
    {
      "metadata": {
        "id": "2RsW7An532Y3",
        "colab_type": "code",
        "colab": {
          "base_uri": "https://localhost:8080/",
          "height": 464
        },
        "outputId": "052396a9-3e36-4e71-f2c5-241811d49d2d"
      },
      "cell_type": "code",
      "source": [
        "model.medium"
      ],
      "execution_count": 44,
      "outputs": [
        {
          "output_type": "execute_result",
          "data": {
            "text/plain": [
              "{'EX_ca2_e': 1000.0,\n",
              " 'EX_cbl1_e': 0.01,\n",
              " 'EX_cl_e': 1000.0,\n",
              " 'EX_co2_e': 1000.0,\n",
              " 'EX_cobalt2_e': 1000.0,\n",
              " 'EX_cu2_e': 1000.0,\n",
              " 'EX_fe2_e': 1000.0,\n",
              " 'EX_fe3_e': 1000.0,\n",
              " 'EX_glc__D_e': 10.0,\n",
              " 'EX_h2o_e': 1000.0,\n",
              " 'EX_h_e': 1000.0,\n",
              " 'EX_k_e': 1000.0,\n",
              " 'EX_mg2_e': 1000.0,\n",
              " 'EX_mn2_e': 1000.0,\n",
              " 'EX_mobd_e': 1000.0,\n",
              " 'EX_na1_e': 1000.0,\n",
              " 'EX_nh4_e': 1000.0,\n",
              " 'EX_ni2_e': 1000.0,\n",
              " 'EX_o2_e': 1000.0,\n",
              " 'EX_pi_e': 1000.0,\n",
              " 'EX_sel_e': 1000.0,\n",
              " 'EX_slnt_e': 1000.0,\n",
              " 'EX_so4_e': 1000.0,\n",
              " 'EX_tungs_e': 1000.0,\n",
              " 'EX_zn2_e': 1000.0}"
            ]
          },
          "metadata": {
            "tags": []
          },
          "execution_count": 44
        }
      ]
    },
    {
      "metadata": {
        "id": "ssAaIxcAnLXt",
        "colab_type": "text"
      },
      "cell_type": "markdown",
      "source": [
        "### Simulation of optimal growth"
      ]
    },
    {
      "metadata": {
        "id": "lnoHdnOE4MW0",
        "colab_type": "code",
        "colab": {}
      },
      "cell_type": "code",
      "source": [
        "# model.solver\n",
        "solution = model.optimize()"
      ],
      "execution_count": 0,
      "outputs": []
    },
    {
      "metadata": {
        "id": "qXAdkcXQ5dTD",
        "colab_type": "text"
      },
      "cell_type": "markdown",
      "source": [
        "Models solved using FBA can be further analyzed by using summary methods, which output printed text to give a quick representation of model behavior. Calling the summary method on the entire model displays information on the input and output behavior of the model, along with the optimized objective."
      ]
    },
    {
      "metadata": {
        "id": "NWHpKEmM5fzP",
        "colab_type": "code",
        "colab": {
          "base_uri": "https://localhost:8080/",
          "height": 321
        },
        "outputId": "1c19bbae-47fa-41a0-9036-22c0fdad064b"
      },
      "cell_type": "code",
      "source": [
        "model.summary()\n",
        "# solution.fluxes.BIOMASS_Ec_iJO1366_core_53p95M\n",
        "# solution.fluxes.ATPM"
      ],
      "execution_count": 45,
      "outputs": [
        {
          "output_type": "stream",
          "text": [
            "IN FLUXES            OUT FLUXES    OBJECTIVES\n",
            "-------------------  ------------  ----------------------\n",
            "o2_e      17.6       h2o_e  45.6   BIOMASS_Ec_i...  0.982\n",
            "nh4_e     10.6       co2_e  19.7\n",
            "glc__D_e  10         h_e     9.03\n",
            "pi_e       0.948\n",
            "so4_e      0.248\n",
            "k_e        0.192\n",
            "fe2_e      0.0158\n",
            "mg2_e      0.00852\n",
            "ca2_e      0.00511\n",
            "cl_e       0.00511\n",
            "cu2_e      0.000697\n",
            "mn2_e      0.000679\n",
            "zn2_e      0.000335\n",
            "ni2_e      0.000317\n",
            "mobd_e     0.000127\n"
          ],
          "name": "stdout"
        }
      ]
    },
    {
      "metadata": {
        "id": "_CYfTRQq5-PN",
        "colab_type": "text"
      },
      "cell_type": "markdown",
      "source": [
        "In addition, the input-output behavior of individual metabolites can also be inspected using summary methods. For instance, the following commands can be used to examine the overall redox balance of the model."
      ]
    },
    {
      "metadata": {
        "id": "QyIbxcxH6BiH",
        "colab_type": "code",
        "colab": {
          "base_uri": "https://localhost:8080/",
          "height": 410
        },
        "outputId": "aca7c5cc-cb21-43ef-d293-69227315386d"
      },
      "cell_type": "code",
      "source": [
        "model.metabolites.nadh_c.summary()"
      ],
      "execution_count": 47,
      "outputs": [
        {
          "output_type": "stream",
          "text": [
            "PRODUCING REACTIONS -- Nicotinamide adenine dinucleotide - reduced (nadh_c)\n",
            "---------------------------------------------------------------------------\n",
            "%      FLUX  RXN ID    REACTION\n",
            "---  ------  --------  --------------------------------------------------\n",
            "46%  16.3    GAPD      g3p_c + nad_c + pi_c <=> 13dpg_c + h_c + nadh_c\n",
            "23%   7.97   PDH       coa_c + nad_c + pyr_c --> accoa_c + co2_c + nadh_c\n",
            "14%   4.83   MDH       mal__L_c + nad_c <=> h_c + nadh_c + oaa_c\n",
            "11%   3.8    AKGDH     akg_c + coa_c + nad_c --> co2_c + nadh_c + succ...\n",
            "5%    1.69   PGCD      3pg_c + nad_c --> 3php_c + h_c + nadh_c\n",
            "1%    0.443  IPMD      3c2hmp_c + nad_c --> 3c4mop_c + h_c + nadh_c\n",
            "\n",
            "CONSUMING REACTIONS -- Nicotinamide adenine dinucleotide - reduced (nadh_c)\n",
            "---------------------------------------------------------------------------\n",
            "%      FLUX  RXN ID    REACTION\n",
            "---  ------  --------  --------------------------------------------------\n",
            "89%  31      NADH16pp  4.0 h_c + nadh_c + q8_c --> 3.0 h_p + nad_c + q...\n",
            "6%    2.15   FADRx     fad_c + h_c + nadh_c --> fadh2_c + nad_c\n",
            "1%    0.35   HACD1     aacoa_c + h_c + nadh_c <=> 3hbcoa_c + nad_c\n",
            "1%    0.35   HACD2     3ohcoa_c + h_c + nadh_c <=> 3hhcoa_c + nad_c\n",
            "1%    0.35   HACD3     3oocoa_c + h_c + nadh_c <=> 3hocoa_c + nad_c\n",
            "1%    0.35   HACD4     3odcoa_c + h_c + nadh_c <=> 3hdcoa_c + nad_c\n",
            "1%    0.35   HACD5     3oddcoa_c + h_c + nadh_c <=> 3hddcoa_c + nad_c\n"
          ],
          "name": "stdout"
        }
      ]
    },
    {
      "metadata": {
        "id": "sdELSxCR6Q7P",
        "colab_type": "text"
      },
      "cell_type": "markdown",
      "source": [
        "Or to get a sense of the main energy production and consumption reactions"
      ]
    },
    {
      "metadata": {
        "id": "5AunmY3e6RmD",
        "colab_type": "code",
        "colab": {
          "base_uri": "https://localhost:8080/",
          "height": 410
        },
        "outputId": "104b6750-59cb-4eb2-ebdf-ab8ca09e047b"
      },
      "cell_type": "code",
      "source": [
        "model.metabolites.atp_c.summary()"
      ],
      "execution_count": 48,
      "outputs": [
        {
          "output_type": "stream",
          "text": [
            "PRODUCING REACTIONS -- ATP C10H12N5O13P3 (atp_c)\n",
            "------------------------------------------------\n",
            "%      FLUX  RXN ID      REACTION\n",
            "---  ------  ----------  --------------------------------------------------\n",
            "70%  55.8    ATPS4rpp    adp_c + 4.0 h_p + pi_c <=> atp_c + h2o_c + 3.0 h_c\n",
            "20%  16.3    PGK         3pg_c + atp_c <=> 13dpg_c + adp_c\n",
            "5%    4.01   PPK         atp_c + pi_c <=> adp_c + ppi_c\n",
            "4%    3.29   SUCOAS      atp_c + coa_c + succ_c <=> adp_c + pi_c + succoa_c\n",
            "\n",
            "CONSUMING REACTIONS -- ATP C10H12N5O13P3 (atp_c)\n",
            "------------------------------------------------\n",
            "%      FLUX  RXN ID      REACTION\n",
            "---  ------  ----------  --------------------------------------------------\n",
            "67%  53.2    BIOMASS...  0.000223 10fthf_c + 2.6e-05 2fe2s_c + 0.000223 ...\n",
            "9%    6.92   PFK         atp_c + f6p_c --> adp_c + fdp_c + h_c\n",
            "5%    3.93   ADK1        amp_c + atp_c <=> 2.0 adp_c\n",
            "4%    3.15   ATPM        atp_c + h2o_c --> adp_c + h_c + pi_c\n",
            "2%    1.78   GLNS        atp_c + glu__L_c + nh4_c --> adp_c + gln__L_c +...\n",
            "1%    1.05   ASPK        asp__L_c + atp_c <=> 4pasp_c + adp_c\n",
            "1%    0.917  PRPPS       atp_c + r5p_c <=> amp_c + h_c + prpp_c\n",
            "1%    0.616  CBMKr       atp_c + co2_c + nh4_c <=> adp_c + cbp_c + 2.0 h_c\n",
            "1%    0.572  ACS         ac_c + atp_c + coa_c --> accoa_c + amp_c + ppi_c\n"
          ],
          "name": "stdout"
        }
      ]
    },
    {
      "metadata": {
        "id": "sI9W_vTi_LAw",
        "colab_type": "text"
      },
      "cell_type": "markdown",
      "source": [
        "## Manipulation of the model"
      ]
    },
    {
      "metadata": {
        "id": "2pbYhxox81cM",
        "colab_type": "text"
      },
      "cell_type": "markdown",
      "source": [
        "### Setting new objective\n",
        "\n",
        "The objective function is determined from the objective_coefficient attribute of the objective reaction(s). Generally, a “biomass” function which describes the composition of metabolites which make up a cell is used.\n",
        "\n",
        "The objective function can be changed by assigning Model.objective, which can be a reaction object (or just it’s name)"
      ]
    },
    {
      "metadata": {
        "id": "hoyWMiuz9Ue7",
        "colab_type": "code",
        "colab": {
          "base_uri": "https://localhost:8080/",
          "height": 35
        },
        "outputId": "04b67871-cf56-4242-c2ba-1ac8d1f8ca12"
      },
      "cell_type": "code",
      "source": [
        "# copy model to a new name\n",
        "ATPmodel = model.copy()\n",
        "\n",
        "# change the objective to ATPM\n",
        "ATPmodel.objective = 'ATPM'\n",
        "\n",
        "# The upper bound should be 1000, so that we get\n",
        "# the actual optimal value\n",
        "ATPmodel.reactions.get_by_id('ATPM').upper_bound = 1000.\n",
        "\n",
        "# simulation of fluxes for new objective\n",
        "ATPmodel.optimize().objective_value\n"
      ],
      "execution_count": 49,
      "outputs": [
        {
          "output_type": "execute_result",
          "data": {
            "text/plain": [
              "234.99999999999986"
            ]
          },
          "metadata": {
            "tags": []
          },
          "execution_count": 49
        }
      ]
    },
    {
      "metadata": {
        "id": "Enit3zYyyiu7",
        "colab_type": "text"
      },
      "cell_type": "markdown",
      "source": [
        "## Questions\n",
        "\n",
        " which reactions includes cytosolic atp? model.?.atp_c.?\n",
        " \n",
        " which metabolite is named adenosine model.metabolites.?(?,?)\n",
        "\n",
        "which genes are necessary for PFK reaction? model.?.?.? \n",
        "\n",
        "Which metabolites are superfluous in the original medium composition based on the exchanged metabolites determined by the FBA?"
      ]
    }
  ]
}