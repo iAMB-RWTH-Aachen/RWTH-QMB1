{
  "nbformat": 4,
  "nbformat_minor": 0,
  "metadata": {
    "colab": {
      "name": "1901_GSMM-cobrapy_QuantMiBi.ipynb",
      "version": "0.3.2",
      "provenance": [],
      "collapsed_sections": [],
      "toc_visible": true,
      "include_colab_link": true
    },
    "kernelspec": {
      "name": "python3",
      "display_name": "Python 3"
    }
  },
  "cells": [
    {
      "cell_type": "markdown",
      "metadata": {
        "id": "view-in-github",
        "colab_type": "text"
      },
      "source": [
        "<a href=\"https://colab.research.google.com/github/uliebal/RWTH-QMB1/blob/master/1901_GSMM_cobrapy_QuantMiBi.ipynb\" target=\"_parent\"><img src=\"https://colab.research.google.com/assets/colab-badge.svg\" alt=\"Open In Colab\"/></a>"
      ]
    },
    {
      "metadata": {
        "id": "_XiYNRBT5sFj",
        "colab_type": "text"
      },
      "cell_type": "markdown",
      "source": [
        "# Seminar Quantitative Mikrobiologie: Hands-on simulation genome scale metabolic models\n",
        "## Introduction\n",
        "\n",
        "The seminar provides a guide of how to work with genome scale metabolic models (GSMM) of micro-organisms. The example organism we use is *E. coli*, for which reliable models are available in online databases. The goal is to get insight into flux distributions and general metabolic state as well as to find flux solutions that represent the highest possible over-produce of a metabolite, in our example succinate.\n",
        "\n",
        "The seminar uses Jupyter notebooks, a new way to use and visualize code in the web. Such a notebook is composed of a sequence of cells. Cellls can be either text/comments, like this introduction, or it contains python code to be run. In this example the code is evaluated by the cloud service [Binder](https://mybinder.org/). The output for each code-cell is shown directly below it. For a overview on Jupyter notebooks read [this review](https://www.nature.com/articles/d41586-018-07196-1). Another usefull resource to develop Jupyter notebooks is via [Google Colaboration](https://colab.research.google.com).\n",
        "\n",
        "The content of the seminar is adapted from a tutorial by the project Data-Driven Design of Cell Factories and Communities (DD-DeCaF) as well as workshop information available [here](https://biosustain.github.io/cell-factory-design-course/). More information on DD-DeDaF and the original files are [here](https://github.com/DD-DeCaF/tutorials). The simulations are performed using cobrapy (see [Ebrahim et al., 2013](https://doi.org/10.1186/1752-0509-7-74)), the most widely used analysis tool for genome scale metabolic models.\n",
        "\n",
        "**The steps of this tutorial are:**\n",
        " * [Set-up compute environment](#Python-setup)\n",
        "   * loading programs for analysis (data analysis, plotting, cobrapy, escher)\n",
        "   * downloading *E. coli* GSMM (iJO1366)\n",
        " * [Model Analysis](#Model-Analysis)\n",
        "   * loading the model into cobrapy\n",
        "   * examining model structure and details (metabolites, reactions, medium)\n",
        "   * solving reaction flux distribution for optimal growth\n",
        "   * investigating reaction statistics within the solution (NADH and ATP turnover)\n",
        "   * visualizing flux activities in metabolic network\n",
        " * [Model Manipulation](#Model-Manipulation)\n",
        "   * setting new objective function\n",
        "   * visualizing optimal succinate flux distribution\n",
        "   * generating production envelope for the effect of growth rate on succinate production rate\n",
        " \n",
        "\n",
        "**Skills you learn:**\n",
        "* Familiarizing with Jupyter notebooks\n",
        "* Retrieving genome scale model files\n",
        "* Manipulating and Simulating GSMM with cobrapy   \n",
        "\n",
        "\n",
        "**Practical comments:**\n",
        "* In some code cells you are supposed to enter input. The location at which input is required is marked by ''**?...?**''.\n",
        "\n",
        "* Comments to explain details in the code bock are written with a hash **plus blank**. \n",
        "Alternative commands and commands providing somewhat more detailed information are deactivated with a hash **without blank**."
      ]
    },
    {
      "metadata": {
        "id": "J5iOaouMfopo",
        "colab_type": "text"
      },
      "cell_type": "markdown",
      "source": [
        "## Set-up compute environment <a id='Python-setup'></a>\n",
        "\n",
        "Before we can analyse GSMM, we have adjust the python environment that it integrates the cobrapy toolbox and downloading the GSMM."
      ]
    },
    {
      "metadata": {
        "id": "DEvLgrLm9EOG",
        "colab_type": "text"
      },
      "cell_type": "markdown",
      "source": [
        "### Basic Python libraries \n",
        "Some libraries that facilitate data manipulation"
      ]
    },
    {
      "metadata": {
        "id": "Qi9yV4bm9JpE",
        "colab_type": "code",
        "colab": {}
      },
      "cell_type": "code",
      "source": [
        "import sys # loading commands to control/navigate within the system architecture\n",
        "# Loading pandas, a library for data manipulation\n",
        "!{sys.executable} -m pip install pandas\n",
        "import pandas as pd\n",
        "\n",
        "# Loading numpy, a library fo manipulation of numbers\n",
        "import numpy as np\n",
        "\n",
        "# loading matplotlib, a library for visualization\n",
        "!{sys.executable} -m pip install matplotlib\n",
        "import matplotlib.pyplot as plt\n",
        "%matplotlib inline\n",
        "\n",
        "# other popular modules\n",
        "#import json \n",
        "#import os\n",
        "#from IPython.display import HTML\n"
      ],
      "execution_count": 0,
      "outputs": []
    },
    {
      "metadata": {
        "id": "dUUbHNWChyCI",
        "colab_type": "text"
      },
      "cell_type": "markdown",
      "source": [
        "### Git-Installation of cobrapy"
      ]
    },
    {
      "metadata": {
        "id": "AuhR0fTMvPCP",
        "colab_type": "code",
        "colab": {}
      },
      "cell_type": "code",
      "source": [
        "# loading cobrapy, a library dedicated to the analysis of genome scale metabolic models\n",
        "!{sys.executable} -m pip install git+https://github.com/opencobra/cobrapy;\n",
        "from cobra.io import read_sbml_model\n",
        "from cobra.util import create_stoichiometric_matrix\n",
        "from cobra.flux_analysis import production_envelope\n",
        "#import cobra.test\n"
      ],
      "execution_count": 0,
      "outputs": []
    },
    {
      "metadata": {
        "id": "HB7oT-ZfLMzC",
        "colab_type": "text"
      },
      "cell_type": "markdown",
      "source": [
        "### Installation of Escher for visualization\n",
        "\n",
        "[Escher]( https://doi.org/10.1371/journal.pcbi.1004321) is a web-based tool for building, viewing, and sharing visualizations of biological pathways. These 'pathway maps' are a great way to contextualize data about metabolism.\n",
        "\n",
        "[Official Documentation site](https://escher.readthedocs.io/en/v1.2.0/index.html)\n",
        "\n",
        "* Get a quick view on the available metabolic maps, is a map of iJO1366 part of it?"
      ]
    },
    {
      "metadata": {
        "id": "lKdG1-FJLi11",
        "colab_type": "code",
        "colab": {}
      },
      "cell_type": "code",
      "source": [
        "!{sys.executable} -m pip install escher\n",
        "\n",
        "import escher\n",
        "import escher.urls\n",
        "\n",
        "# list of available maps\n",
        "escher.list_available_maps() \n"
      ],
      "execution_count": 0,
      "outputs": []
    },
    {
      "metadata": {
        "id": "boR9WTVXio4f",
        "colab_type": "text"
      },
      "cell_type": "markdown",
      "source": [
        "### GSMM Download from BIGG\n",
        "\n",
        "[BiGG](https://doi.org/10.1186/1471-2105-11-213) is a knowledgebase of Biochemically, Genetically and Genomically structured genome-scale metabolic network reconstructions. BiGG integrates several published genome-scale metabolic networks into one resource with standard nomenclature which allows components to be compared across different organisms. BiGG can be used to browse model content, visualize metabolic pathway maps, and export SBML files of the models for further analysis by external software packages. Users may follow links from BiGG to several external databases to obtain additional information on genes, proteins, reactions, metabolites and citations of interest.\n",
        "\n",
        "In the following we download the *E. coli* model iJO1366 ([Orth et al., 2011](http://dx.doi.org/10.1038/msb.2011.65)), as well as the visualization JSON file."
      ]
    },
    {
      "metadata": {
        "id": "Ayk-ws_F0g5n",
        "colab_type": "code",
        "colab": {}
      },
      "cell_type": "code",
      "source": [
        "!wget http://bigg.ucsd.edu/static/models/iJO1366.xml.gz\n",
        "\n",
        "# loading a visualization file of the metabolic network. \n",
        "# For frequently used models, like iJO1366, Escher automatically retrieves the visualization file.  \n",
        "#!wget http://bigg.ucsd.edu/static/models/iJO1366.json"
      ],
      "execution_count": 0,
      "outputs": []
    },
    {
      "metadata": {
        "id": "kydPvEnWjgK1",
        "colab_type": "text"
      },
      "cell_type": "markdown",
      "source": [
        "## Model Analysis <a id='Model-Analysis'></a>\n",
        "\n",
        "First we have a look at general features of the model. Then we check which reaction is optimized and perform a simulation to find the optimal flux distribution to maximize the optimized reaction."
      ]
    },
    {
      "metadata": {
        "id": "kACRk6bUkPuu",
        "colab_type": "text"
      },
      "cell_type": "markdown",
      "source": [
        "### Inspection of model features"
      ]
    },
    {
      "metadata": {
        "id": "QIfWKtApmfgj",
        "colab_type": "text"
      },
      "cell_type": "markdown",
      "source": [
        "Converting the GSMM file from the BIGG database into the 'model' data-structure that can be evaluated by the cobrapy toolbox. Just calling the variable 'model' shows some basic features of the model."
      ]
    },
    {
      "metadata": {
        "id": "5MWD8v28z30_",
        "colab_type": "code",
        "colab": {}
      },
      "cell_type": "code",
      "source": [
        "# generating cobra variable from SBML/xml file\n",
        "model = read_sbml_model('iJO1366.xml.gz')\n",
        "model\n",
        "\n",
        "# Display model objective (a reverse reaction is present as well, just for mathematical reasons)\n",
        "#print(model.objective)"
      ],
      "execution_count": 0,
      "outputs": []
    },
    {
      "metadata": {
        "id": "aczhIFJC1qo9",
        "colab_type": "text"
      },
      "cell_type": "markdown",
      "source": [
        "Generate a visualization of the stoichiometric matrix.\n",
        "\n",
        "* What do you see on x-axis, y-axis? Complete the code!\n",
        "* Why do the first few hundred columns look different?\n",
        "* What are the connected diagonal rows?\n",
        "* What do highly colored horizontal/vertical lines represent?"
      ]
    },
    {
      "metadata": {
        "id": "jETqvMPa1uZ2",
        "colab_type": "code",
        "colab": {}
      },
      "cell_type": "code",
      "source": [
        "stoich_matrix = create_stoichiometric_matrix(model)\n",
        "plt.spy(stoich_matrix, precision=0.01, markersize=.2)\n",
        "\n",
        "plt.xlabel('?..?');\n",
        "plt.ylabel('?..?');"
      ],
      "execution_count": 0,
      "outputs": []
    },
    {
      "metadata": {
        "id": "j6DhooOirvqr",
        "colab_type": "text"
      },
      "cell_type": "markdown",
      "source": [
        "### Details to metabolite glyceraldehyde-3-phosphate\n",
        "\n",
        "In the following we extract information of cytoplasmic glyceraldehyde-3-phosphate.\n",
        "Finding metabolites that contain 'g3p_c'."
      ]
    },
    {
      "metadata": {
        "id": "071vAEIov7mF",
        "colab_type": "code",
        "colab": {}
      },
      "cell_type": "code",
      "source": [
        "model.metabolites.query('g3p_c')"
      ],
      "execution_count": 0,
      "outputs": []
    },
    {
      "metadata": {
        "id": "ra9noHxBr0pd",
        "colab_type": "text"
      },
      "cell_type": "markdown",
      "source": [
        "More specific information"
      ]
    },
    {
      "metadata": {
        "id": "IcU6K5Xoq5WF",
        "colab_type": "code",
        "colab": {}
      },
      "cell_type": "code",
      "source": [
        "model.metabolites.get_by_id('g3p_c')\n",
        "\n",
        "# displays all reactions associated with g3p_c\n",
        "#model.metabolites.g3p_c.reactions\n",
        "# dot notation only works for 'proper' variable names, i.e. not for names starting with numbers (e.g. 10fthf_c)"
      ],
      "execution_count": 0,
      "outputs": []
    },
    {
      "metadata": {
        "id": "6cJEODhfsUeW",
        "colab_type": "text"
      },
      "cell_type": "markdown",
      "source": [
        "Explicit list of reactions with reactants"
      ]
    },
    {
      "metadata": {
        "id": "9cujzjsBsaUe",
        "colab_type": "code",
        "colab": {}
      },
      "cell_type": "code",
      "source": [
        "for reaction in model.metabolites.g3p_c.reactions:\n",
        "    print(reaction, reaction.name)"
      ],
      "execution_count": 0,
      "outputs": []
    },
    {
      "metadata": {
        "id": "r-iTdtzBtez8",
        "colab_type": "text"
      },
      "cell_type": "markdown",
      "source": [
        "Investigating a particular reaction: GAPD\n",
        "\n",
        "GPR shows the 'Gene-Protein-Reaction' relationship, i.e. it shows an ID for a gene."
      ]
    },
    {
      "metadata": {
        "id": "FsLRzVTXtibU",
        "colab_type": "code",
        "colab": {}
      },
      "cell_type": "code",
      "source": [
        "model.reactions.GAPD"
      ],
      "execution_count": 0,
      "outputs": []
    },
    {
      "metadata": {
        "id": "2ZU1YVhr3py6",
        "colab_type": "text"
      },
      "cell_type": "markdown",
      "source": [
        "### Output of medium composition\n",
        "\n",
        "Here, we display extra-cellular metabolites that can be potentially imported during the simulation.\n",
        "\n",
        "* Which medium components might be superfluous?\n",
        "* What vital substrates might be missing in the medium?\n",
        "* Which substrate is likely limiting growth?"
      ]
    },
    {
      "metadata": {
        "id": "2RsW7An532Y3",
        "colab_type": "code",
        "colab": {}
      },
      "cell_type": "code",
      "source": [
        "model.medium"
      ],
      "execution_count": 0,
      "outputs": []
    },
    {
      "metadata": {
        "id": "ssAaIxcAnLXt",
        "colab_type": "text"
      },
      "cell_type": "markdown",
      "source": [
        "### Simulation of optimal growth"
      ]
    },
    {
      "metadata": {
        "id": "lnoHdnOE4MW0",
        "colab_type": "code",
        "colab": {}
      },
      "cell_type": "code",
      "source": [
        "# displaying which solver is used to perform FBA\n",
        "#model.solver\n",
        "\n",
        "solution = model.optimize()\n",
        "print('Growth rate: %.2f' % solution.objective_value)\n",
        "\n",
        "# E.coli core model:\n",
        "# import cobra.test\n",
        "# model = cobra.test.create_test_model(\"textbook\")"
      ],
      "execution_count": 0,
      "outputs": []
    },
    {
      "metadata": {
        "id": "qXAdkcXQ5dTD",
        "colab_type": "text"
      },
      "cell_type": "markdown",
      "source": [
        "Models solved using FBA can be further analyzed by using summary methods, which output printed text to give a quick representation of model behavior. Calling the summary method on the entire model displays information on the input and output behavior of the model, along with the optimized objective.\n",
        "\n",
        "* Check which medium components were not used for growth.\n",
        "* Check which substrate was limiting growth.\n",
        "* What is the metabolic mode used for catabolism? (fermentation, Glycolysis+TCA)\n",
        "* What is the major source of NADH/ATP?\n",
        "* What is the major sink of NADH/ATP?\n"
      ]
    },
    {
      "metadata": {
        "id": "NWHpKEmM5fzP",
        "colab_type": "code",
        "colab": {}
      },
      "cell_type": "code",
      "source": [
        "model.summary()\n",
        "\n",
        "# information for specific reactions\n",
        "#solution.fluxes.BIOMASS_Ec_iJO1366_core_53p95M\n",
        "#solution.fluxes.ATPM"
      ],
      "execution_count": 0,
      "outputs": []
    },
    {
      "metadata": {
        "id": "_CYfTRQq5-PN",
        "colab_type": "text"
      },
      "cell_type": "markdown",
      "source": [
        "In addition, the input-output behavior of individual metabolites can also be inspected using summary methods. For instance, the following commands can be used to examine the overall redox balance of the model."
      ]
    },
    {
      "metadata": {
        "id": "QyIbxcxH6BiH",
        "colab_type": "code",
        "colab": {}
      },
      "cell_type": "code",
      "source": [
        "model.metabolites.nadh_c.summary()"
      ],
      "execution_count": 0,
      "outputs": []
    },
    {
      "metadata": {
        "id": "sdELSxCR6Q7P",
        "colab_type": "text"
      },
      "cell_type": "markdown",
      "source": [
        "Or to get a sense of the main energy production and consumption reactions"
      ]
    },
    {
      "metadata": {
        "id": "5AunmY3e6RmD",
        "colab_type": "code",
        "colab": {}
      },
      "cell_type": "code",
      "source": [
        "model.metabolites.atp_c.summary()"
      ],
      "execution_count": 0,
      "outputs": []
    },
    {
      "metadata": {
        "id": "vMLajfXXQEzG",
        "colab_type": "text"
      },
      "cell_type": "markdown",
      "source": [
        "### Visualization\n",
        "\n",
        "Escher is a web-based tool for building, viewing, and sharing visualizations of biological pathways. These 'pathway maps' are a great way to contextualize data about metabolism.\n",
        "\n",
        "Best help [here](https://github.com/zakandrewking/escher/blob/master/docs/notebooks/COBRApy%20and%20Escher.ipynb)"
      ]
    },
    {
      "metadata": {
        "id": "-wAeRsXJQI6e",
        "colab_type": "code",
        "colab": {}
      },
      "cell_type": "code",
      "source": [
        "# Escher wants the data to be stored in a specific format, a 'dictionary'\n",
        "b = escher.Builder(map_name='iJO1366.Central metabolism',\n",
        "                                      reaction_data=dict(solution.fluxes),\n",
        "                   # change the default colors\n",
        "                   reaction_scale=[{'type': 'min', 'color': '#cccccc', 'size': 4},\n",
        "                                   {'type': 'value', 'value': 0.1, 'color': '#cccccc', 'size': 8},\n",
        "                                   {'type': 'mean', 'color': '#0000dd', 'size': 20},\n",
        "                                   {'type': 'max', 'color': '#ff0000', 'size': 40}],\n",
        "                   # absolute value and no text for data\n",
        "                   reaction_styles=['size', 'color', 'abs'],\n",
        "                   # only show the primary metabolites\n",
        "                   hide_secondary_metabolites=True)\n",
        "b.display_in_notebook()"
      ],
      "execution_count": 0,
      "outputs": []
    },
    {
      "metadata": {
        "id": "sI9W_vTi_LAw",
        "colab_type": "text"
      },
      "cell_type": "markdown",
      "source": [
        "## Model Manipulation <a id='Model-Manipulation'></a>"
      ]
    },
    {
      "metadata": {
        "id": "2pbYhxox81cM",
        "colab_type": "text"
      },
      "cell_type": "markdown",
      "source": [
        "### Setting new objective\n",
        "\n",
        "The objective function is determined from the objective_coefficient attribute of the objective reaction(s). Generally, a “biomass” function which describes the composition of metabolites which make up a cell is used.\n",
        "\n",
        "The objective function can be changed by assigning Model.objective, which can be a reaction object (or just it’s name)\n",
        "\n",
        "* Complete the code! (2x)"
      ]
    },
    {
      "metadata": {
        "id": "hoyWMiuz9Ue7",
        "colab_type": "code",
        "colab": {}
      },
      "cell_type": "code",
      "source": [
        "# copy model for changes to succinate\n",
        "SucModel = model.copy()\n",
        "#SucModel.reactions.query('suc')\n",
        "#SucModel.reactions.EX_succ_e\n",
        "\n",
        "# change objective to the synthesis of succinate\n",
        "SucModel.objective = SucModel.reactions.EX_succ_e\n",
        "\n",
        "# Because biomass is not anymore optimized, the biomass reactions will be zero for optimization to succinate because it only drains the result.\n",
        "# Assuming that there is still some growth occuring, we raise the lower boundary for the growth reaction\n",
        "SucModel.reactions.get_by_id('BIOMASS_Ec_iJO1366_core_53p95M').lower_bound = ?...?\n",
        "\n",
        "# storing the simulation in a variable\n",
        "Suc_Solution = SucModel.optimize()\n",
        "\n",
        "# print overview of exchange reactions\n",
        "?...?\n",
        "#SucModel.reactions.ATPM.flux\n"
      ],
      "execution_count": 0,
      "outputs": []
    },
    {
      "metadata": {
        "id": "BTV32gOyTN5e",
        "colab_type": "text"
      },
      "cell_type": "markdown",
      "source": [
        "### Visualization of succinate optimized flux distribution\n",
        "\n",
        "The optimization of succinate from glucose shows a theoretical conversion mechanism. Let's visualize the optmized reaction fluxes in Escher.\n",
        "\n",
        "* Complete the code!\n",
        "* Describe similarities and differences of the metabolism for succinate production compared to growth."
      ]
    },
    {
      "metadata": {
        "id": "fd070k8SWUxC",
        "colab_type": "code",
        "colab": {}
      },
      "cell_type": "code",
      "source": [
        "b = escher.Builder(map_name='iJO1366.Central metabolism',\n",
        "                                      reaction_data=?...?\n",
        "                   # change the default colors\n",
        "                   reaction_scale=[{'type': 'min', 'color': '#cccccc', 'size': 4},\n",
        "                                   {'type': 'value', 'value': 0.1, 'color': '#cccccc', 'size': 8},\n",
        "                                   {'type': 'mean', 'color': '#0000dd', 'size': 20},\n",
        "                                   {'type': 'max', 'color': '#ff0000', 'size': 40}],\n",
        "                   # absolute value and no text for data\n",
        "                   reaction_styles=['size', 'color', 'abs'],\n",
        "                   # only show the primary metabolites\n",
        "                   hide_secondary_metabolites=True)\n",
        "b.display_in_notebook()"
      ],
      "execution_count": 0,
      "outputs": []
    },
    {
      "metadata": {
        "id": "MHp_d657VTBk",
        "colab_type": "text"
      },
      "cell_type": "markdown",
      "source": [
        "### Generating production envelopes\n",
        "Production envelopes (aka phenotype phase planes) will show distinct phases of optimal growth with different use of two different substrates. For more information, see [Edwards et al.](http://dx.doi.org/10.1002/bit.10047)\n",
        "\n",
        "* Complete the code! (2x)"
      ]
    },
    {
      "metadata": {
        "id": "JX4ggZgqTBHw",
        "colab_type": "code",
        "colab": {}
      },
      "cell_type": "code",
      "source": [
        "# setting lowest growth boundary back to '0'\n",
        "SucModel.reactions.get_by_id('BIOMASS_Ec_iJO1366_core_53p95M').lower_bound = 0.\n",
        "\n",
        "# Calculation of production envelope \n",
        "prod_env = production_envelope(SucModel, reactions=SucModel.reactions.BIOMASS_Ec_iJO1366_core_53p95M, \n",
        "                               objective=SucModel.reactions.EX_succ_e)\n",
        "prod_env\n",
        "\n"
      ],
      "execution_count": 0,
      "outputs": []
    },
    {
      "metadata": {
        "id": "9SHFRnWdM4jc",
        "colab_type": "code",
        "colab": {}
      },
      "cell_type": "code",
      "source": [
        "# Visualization\n",
        "plt.plot(prod_env['BIOMASS_Ec_iJO1366_core_53p95M'], prod_env['carbon_yield_maximum'], color='blue', linestyle='solid', linewidth=2)\n",
        "plt.xlabel('?...?');\n",
        "plt.ylabel('?...?');\n",
        "plt.title('Production Envelope of Succinate for different growth rates');\n"
      ],
      "execution_count": 0,
      "outputs": []
    },
    {
      "metadata": {
        "id": "Enit3zYyyiu7",
        "colab_type": "text"
      },
      "cell_type": "markdown",
      "source": [
        "## Further Tasks\n",
        "\n",
        "An equally important organism for biotechnology is *S. cerevisiae* with one of the main models called iMM904. Your goal is to identify the growth rate based on different oxygen uptake rates.\n",
        "\n",
        "\n",
        "\n",
        "1.   Find the iMM904 model in the BIGG database.\n",
        "2.   Extract the map name from Escher for visualization.\n",
        "3.   Check growth on glucose and visualize the fluxes.\n",
        "4.   Use the production envelope command to check the dependence of growth on oxygen uptake.\n",
        "  * Identify the reaction name for the oxygen exchange reaction.\n",
        "  * Use as 'objective' the default biomass reaction and as 'reactions' the oxygen exchange reaction.\n",
        "  * For plotting, examine the column header names in 'prod_env'.\n",
        "  * Is the resulting graph visually appealing? Try using np.abs(prod_env['?...?']) to improve the figure."
      ]
    },
    {
      "metadata": {
        "id": "Z1suWfKNaUqK",
        "colab_type": "text"
      },
      "cell_type": "markdown",
      "source": [
        "# Further Literature\n",
        "\n",
        "## Details to Jupyter education\n",
        "The following sites provide guides to using Jupyter notebooks for educational means:\n",
        " * https://jupyter4edu.github.io/jupyter-edu-book/index.html\n",
        " * https://github.com/jperkel/example_notebook\n",
        " * https://github.com/jupyter/jupyter/wiki/A-gallery-of-interesting-Jupyter-Notebooks#mathematics-physics-chemistry-biology\n",
        " * https://github.com/binder-examples/\n",
        " * https://nbviewer.jupyter.org/\n",
        " * https://jupyter.readthedocs.io/en/latest/index.html\n",
        " * https://jakevdp.github.io/blog/2017/12/05/installing-python-packages-from-jupyter/\n",
        " * https://matplotlib.org/index.html\n",
        "\n",
        "## more on cobrapy:\n",
        " * https://opencobra.github.io/cobrapy/\n",
        " * https://cobrapy.readthedocs.io/en/latest/getting_started.html\n",
        " * https://github.com/DD-DeCaF/tutorials\n",
        " * https://biosustain.github.io/cell-factory-design-course/\n",
        "\n",
        "## Escher Documentation:\n",
        " * https://escher.readthedocs.io/en/v1.2.0/index.html\n",
        " * https://github.com/zakandrewking/escher/blob/master/docs/notebooks/COBRApy%20and%20Escher.ipynb\n",
        " * https://github.com/DD-DeCaF/tutorials/blob/master/escher-01.ipynb\n",
        "\n",
        "## further material with cameo:\n",
        " * https://github.com/DD-DeCaF/tutorials\n",
        " * https://biosustain.github.io/cell-factory-design-course/\n",
        " * https://try.cameo.bio/user/M6JFMnvW35Vz/tree\n",
        " * !pip install cameo"
      ]
    }
  ]
}